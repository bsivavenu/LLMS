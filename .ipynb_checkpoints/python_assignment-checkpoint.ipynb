{
 "cells": [
  {
   "cell_type": "markdown",
   "id": "8532c9d4-f2dd-4c57-8e83-13f3415bc08e",
   "metadata": {},
   "source": [
    "1. Write a Python function to reverse a string.\n",
    "2. Write a Python function to check if a string is a palindrome.\n",
    "3. Write a Python function to count the number of vowels in a string.\n",
    "4. Write a Python function to count the number of words in a sentence.\n",
    "5. Write a Python function to capitalize the first letter of each word in a sentence.\n",
    "6. Write a Python function to remove all the punctuation marks from a string.\n",
    "7. Write a Python function to check if two strings are anagrams.\n",
    "8. Write a Python function to find the longest word in a sentence.\n",
    "9. Write a Python function to check if a string contains only alphabets.\n",
    "10. Write a Python function to find the frequency of each character in a string.\n",
    "11. Write a Python function to remove duplicate characters from a string.\n",
    "12. Write a Python function to find the second most common character in a string.\n",
    "13. Write a Python function to check if a string contains any numbers.\n",
    "14. Write a Python function to check if a string contains only digits.\n",
    "15. Write a Python function to check if a string contains only uppercase letters.\n",
    "16. Write a Python function to check if a string contains only lowercase letters.\n",
    "17. Write a Python function to find the first non-repeating character in a string.\n",
    "18. Write a Python function to find the index of the first occurrence of a substring in a string.\n",
    "19. Write a Python function to remove all whitespace characters from a string.\n",
    "20. Write a Python function to convert a string to lowercase.\n",
    "21. Write a Python function to convert a string to uppercase.\n",
    "22. Write a Python function to extract numbers from a string.\n",
    "23. Write a Python function to extract email addresses from a string.\n",
    "24. Write a Python function to check if a string is a valid email address.\n",
    "25. Write a Python function to replace a substring with another substring in a string.\n",
    "26. Write a Python function to count the number of occurrences of a substring in a string.\n",
    "27. Write a Python function to find the most common character in a string.\n",
    "28. Write a Python function to check if a string starts with a specified prefix.\n",
    "29. Write a Python function to check if a string ends with a specified suffix.\n",
    "30. Write a Python function to reverse words in a sentence.\n",
    "31. Write a Python function to check if a string is a valid URL.\n",
    "32. Write a Python function to remove HTML tags from a string.\n",
    "33. Write a Python function to check if a string contains only printable characters.\n",
    "34. Write a Python function to remove leading and trailing whitespace characters from a string.\n",
    "35. Write a Python function to find the longest common prefix among a list of strings.\n",
    "36. Write a Python function to find the shortest common suffix among a list of strings.\n",
    "37. Write a Python function to find the Levenshtein distance between two strings.\n",
    "38. Write a Python function to find all permutations of a string.\n",
    "39. Write a Python function to find all combinations of a string.\n",
    "40. Write a Python function to find the ASCII value of a character.\n",
    "41. Write a Python function to find the character corresponding to an ASCII value.\n",
    "42. Write a Python function to find the first occurrence of a non-repeating character in a string.\n",
    "43. Write a Python function to remove all consecutive duplicates from a string.\n",
    "44. Write a Python function to find the length of the longest substring without repeating characters.\n",
    "45. Write a Python function to find the minimum window in a string which contains all the characters of another string.\n",
    "46. Write a Python function to check if a string is a valid IPv4 address.\n",
    "47. Write a Python function to remove all non-alphanumeric characters from a string.\n",
    "48. Write a Python function to find the kth character in the string after sorting the characters alphabetically.\n",
    "49. Write a Python function to find the longest palindrome substring within a string.\n",
    "50. Write a Python function to check if a string is balanced with respect to parentheses.\n",
    "\n"
   ]
  },
  {
   "cell_type": "code",
   "execution_count": 1,
   "id": "9233e1fb-92cd-4c70-a39d-02668aaea7ed",
   "metadata": {},
   "outputs": [
    {
     "data": {
      "text/plain": [
       "'aidni'"
      ]
     },
     "execution_count": 1,
     "metadata": {},
     "output_type": "execute_result"
    }
   ],
   "source": [
    "# reverse string\n",
    "x = 'india'\n",
    "x[::-1]\n",
    "# a = reversed(list(x))\n",
    "reversed_string = ''\n",
    "for char in x:\n",
    "    reversed_string = char + reversed_string\n",
    "reversed_string\n",
    "# "
   ]
  },
  {
   "cell_type": "code",
   "execution_count": 2,
   "id": "869ed740-6b84-4238-a653-e0e5d7138275",
   "metadata": {},
   "outputs": [
    {
     "name": "stdout",
     "output_type": "stream",
     "text": [
      "True\n"
     ]
    }
   ],
   "source": [
    "# 2. Write a Python function to check if a string is a palindrome.\n",
    "x = 'aka'\n",
    "x1 = x[::-1]\n",
    "print(x1==x)"
   ]
  },
  {
   "cell_type": "code",
   "execution_count": 3,
   "id": "026ffb08-aa57-4f13-9d38-bc906a9be6cd",
   "metadata": {},
   "outputs": [
    {
     "data": {
      "text/plain": [
       "{'i': 1, 'a': 1, 'e': 1, 'u': 1}"
      ]
     },
     "execution_count": 3,
     "metadata": {},
     "output_type": "execute_result"
    }
   ],
   "source": [
    "# 3. Write a Python function to count the number of vowels in a string.\n",
    "vow = 'aeiouAEIOU'\n",
    "x = 'sivavenu'\n",
    "c = {}\n",
    "count = 0\n",
    "for i in x:\n",
    "    if i in vow:\n",
    "        c[i] = count+1\n",
    "    else:\n",
    "        pass\n",
    "c"
   ]
  },
  {
   "cell_type": "code",
   "execution_count": 4,
   "id": "a8b0825d-2b1a-454a-ab11-7c76faefb39d",
   "metadata": {},
   "outputs": [
    {
     "data": {
      "text/plain": [
       "{'india': 2,\n",
       " 'is': 3,\n",
       " 'great': 1,\n",
       " 'country': 2,\n",
       " 'and': 1,\n",
       " 'highly': 1,\n",
       " 'poulated': 1}"
      ]
     },
     "execution_count": 4,
     "metadata": {},
     "output_type": "execute_result"
    }
   ],
   "source": [
    "# 4. Write a Python function to count the number of words in a sentence.\n",
    "x = 'india is great country and india is is highly poulated country'\n",
    "words = x.split()\n",
    "c = {}\n",
    "# count = 0\n",
    "for i in words:\n",
    "    if i in c:\n",
    "        c[i] = c[i]+1\n",
    "    else:\n",
    "        c[i] = 1\n",
    "c"
   ]
  },
  {
   "cell_type": "code",
   "execution_count": 5,
   "id": "675061a5-c642-4b3f-b1ff-0bbd4f230dbb",
   "metadata": {},
   "outputs": [
    {
     "data": {
      "text/plain": [
       "'India Is Great Country And India Is Highly Populated Country'"
      ]
     },
     "execution_count": 5,
     "metadata": {},
     "output_type": "execute_result"
    }
   ],
   "source": [
    "# 5. Write a Python function to capitalize the first letter of each word in a sentence.\n",
    "x = 'india is great country and india is highly populated country'\n",
    "xx = x.split()\n",
    "xx = ' '.join(i.capitalize() for i in xx)\n",
    "xx"
   ]
  },
  {
   "cell_type": "code",
   "execution_count": 6,
   "id": "4b485ff2-833c-4a21-b127-876fdcace220",
   "metadata": {},
   "outputs": [
    {
     "data": {
      "text/plain": [
       "'indi is good '"
      ]
     },
     "execution_count": 6,
     "metadata": {},
     "output_type": "execute_result"
    }
   ],
   "source": [
    "# 6. Write a Python function to remove all the punctuation marks from a string.\n",
    "x = 'indi@ is good $'\n",
    "\n",
    "punctuations = '''!()-[]{};:'\"\\,<>./?@#$%^&*_~'''\n",
    "xx = ''.join(i for i in x if i not in punctuations)\n",
    "xx"
   ]
  },
  {
   "cell_type": "code",
   "execution_count": 7,
   "id": "31115978-c8b8-4df8-a647-13a80383b76a",
   "metadata": {},
   "outputs": [
    {
     "name": "stdout",
     "output_type": "stream",
     "text": [
      "True\n"
     ]
    }
   ],
   "source": [
    "# 7. Write a Python function to check if two strings are anagrams.\n",
    "x1 = 'listen'\n",
    "x2 = 'silent'\n",
    "x1 = x1.replace(\" \",\"\").lower()\n",
    "x2 = x2.replace(\" \",\"\").lower()\n",
    "print(sorted(x1)==sorted(x2))"
   ]
  },
  {
   "cell_type": "code",
   "execution_count": 8,
   "id": "4db470ce-4c52-4ab4-b652-715ba23f86be",
   "metadata": {},
   "outputs": [
    {
     "name": "stdout",
     "output_type": "stream",
     "text": [
      "populated\n",
      "poulated\n"
     ]
    }
   ],
   "source": [
    "# 8. Write a Python function to find the longest word in a sentence.\n",
    "x = 'india is great country and india is highly populated country'\n",
    "x = x.split()\n",
    "max_length = 0\n",
    "for i in x:\n",
    "    c = len(i)\n",
    "    if c > max_length:\n",
    "        longword = i\n",
    "    # else:\n",
    "        max_length = len(i)\n",
    "print(longword)\n",
    "longest_word = max(words, key=len)\n",
    "print(longest_word)"
   ]
  },
  {
   "cell_type": "code",
   "execution_count": 9,
   "id": "b6aff12f-febd-4a6d-b308-0cb8bded2549",
   "metadata": {},
   "outputs": [
    {
     "name": "stdout",
     "output_type": "stream",
     "text": [
      "False\n"
     ]
    }
   ],
   "source": [
    "# 9. Write a Python function to check if a string contains only alphabets.\n",
    "x = 'India1'\n",
    "print(x.isalpha())\n"
   ]
  },
  {
   "cell_type": "code",
   "execution_count": 10,
   "id": "51db9090-f1a5-497d-a6bc-33e60e19424b",
   "metadata": {},
   "outputs": [
    {
     "name": "stdout",
     "output_type": "stream",
     "text": [
      "{'i': 2, 'n': 1, 'd': 1, 'a': 2, ' ': 1, 'u': 1, 's': 1}\n",
      "{'i': 2, 'n': 1, 'd': 1, 'a': 2, ' ': 1, 'u': 1, 's': 1}\n",
      "{'i': 2, 'n': 1, 'd': 1, 'a': 2, ' ': 1, 'u': 1, 's': 1}\n",
      "{'i': 2, 'n': 1, 'd': 1, 'a': 2, ' ': 1, 'u': 1, 's': 1}\n"
     ]
    }
   ],
   "source": [
    "# 10. Write a Python function to find the frequency of each character in a string.\n",
    "x = 'india usa'\n",
    "x = x.lower()\n",
    "char_freq = {}\n",
    "for char in x:\n",
    "    char_freq[char] = char_freq.get(char, 0) + 1\n",
    "print(char_freq)\n",
    "###########################\n",
    "from collections import Counter\n",
    "c = Counter(x)\n",
    "c = dict(c)\n",
    "print(c)\n",
    "########################\n",
    "c = {}\n",
    "for i in x:\n",
    "    if i in c:\n",
    "        c[i] = c[i]+1\n",
    "    else:\n",
    "        c[i] = 1\n",
    "print(c)\n",
    "#######################\n",
    "c = {i:x.count(i) for i in x}\n",
    "print(c)\n",
    "########################\n"
   ]
  },
  {
   "cell_type": "code",
   "execution_count": 11,
   "id": "cbbcc2aa-85d3-46cf-aa0a-c0f83e2189ee",
   "metadata": {},
   "outputs": [
    {
     "name": "stdout",
     "output_type": "stream",
     "text": [
      "{'n', 'd', 'a', 'i'}\n",
      "ndai\n",
      "ndai\n"
     ]
    }
   ],
   "source": [
    "# 11. Write a Python function to remove duplicate characters from a string.\n",
    "x = 'india'\n",
    "x = set(x)\n",
    "print(x)\n",
    "##########\n",
    "x = ''.join(set(x))\n",
    "print(x)\n",
    "##########\n",
    "unq = set()\n",
    "c = []\n",
    "for i in x:\n",
    "    if i not in unq:\n",
    "        unq.add(i)\n",
    "        c.append(i)\n",
    "cc = ''.join(c)\n",
    "print(cc)\n",
    "    "
   ]
  },
  {
   "cell_type": "code",
   "execution_count": 12,
   "id": "9edb0504-8cf9-4694-b37b-696f6589791d",
   "metadata": {},
   "outputs": [
    {
     "name": "stdout",
     "output_type": "stream",
     "text": [
      "[(' ', 9), ('i', 7), ('n', 5), ('a', 5), ('d', 4), ('t', 4), ('r', 3), ('o', 3), ('u', 3), ('y', 3), ('s', 2), ('g', 2), ('e', 2), ('c', 2), ('h', 2), ('l', 2), ('p', 2)]\n",
      "i\n",
      "i\n"
     ]
    }
   ],
   "source": [
    "# 12. Write a Python function to find the second most common character in a string.\n",
    "x = 'india is great country and india is highly populated country'\n",
    "c = {i:x.count(i) for i in x}\n",
    "# print(c)\n",
    "sorted_char_freq = sorted(c.items(), key=lambda x: x[1], reverse=True)\n",
    "print(sorted_char_freq)\n",
    "if len(sorted_char_freq) > 1:\n",
    "    second_most_common = sorted_char_freq[1][0]\n",
    "print(second_most_common)\n",
    "#######################################\n",
    "c = Counter(x)\n",
    "most_common_chars = c.most_common(2)\n",
    "print(most_common_chars[1][0])"
   ]
  },
  {
   "cell_type": "code",
   "execution_count": 13,
   "id": "10dc926b-9b70-4985-8c1d-1c61f1523a25",
   "metadata": {},
   "outputs": [
    {
     "name": "stdout",
     "output_type": "stream",
     "text": [
      "True\n"
     ]
    }
   ],
   "source": [
    "# 13. Write a Python function to check if a string contains any numbers.\n",
    "x = 'India1'\n",
    "print(x.isalnum())"
   ]
  },
  {
   "cell_type": "code",
   "execution_count": 14,
   "id": "475868f5-71d3-444b-a4ca-7331965c7b25",
   "metadata": {},
   "outputs": [
    {
     "name": "stdout",
     "output_type": "stream",
     "text": [
      "False\n"
     ]
    }
   ],
   "source": [
    "# 14. Write a Python function to check if a string contains only digits.\n",
    "x = 'India2'\n",
    "print(x.isdigit())"
   ]
  },
  {
   "cell_type": "code",
   "execution_count": 15,
   "id": "4db3f69c-20f8-497a-ac4d-eb4e42d56e91",
   "metadata": {},
   "outputs": [
    {
     "name": "stdout",
     "output_type": "stream",
     "text": [
      "False\n",
      "False\n"
     ]
    }
   ],
   "source": [
    "# 15. Write a Python function to check if a string contains only uppercase letters.\n",
    "x = 'India'\n",
    "print(x.isupper())\n",
    "\n",
    "# 16. Write a Python function to check if a string contains only lowercase letters.\n",
    "print(x.islower())\n"
   ]
  },
  {
   "cell_type": "code",
   "execution_count": 16,
   "id": "7864435d-ef87-4054-b885-82f4390bd7ca",
   "metadata": {},
   "outputs": [
    {
     "name": "stdout",
     "output_type": "stream",
     "text": [
      "Counter({'i': 2, 'a': 2, 'n': 1, 'd': 1, ' ': 1, 'u': 1, 's': 1})\n",
      "n\n"
     ]
    }
   ],
   "source": [
    "# 17. Write a Python function to find the first non-repeating character in a string.\n",
    "x = 'india usa'\n",
    "c = Counter(x)\n",
    "# c = sorted(dict(c))\n",
    "print(c)\n",
    "for i in x:\n",
    "    if c[i] == 1:\n",
    "        print(i)\n",
    "        break\n",
    "    "
   ]
  },
  {
   "cell_type": "code",
   "execution_count": 17,
   "id": "61775006-bc45-4e50-bd69-1710779a2312",
   "metadata": {},
   "outputs": [
    {
     "name": "stdout",
     "output_type": "stream",
     "text": [
      "indiaisgreatcountryandindiaishighlypopulatedcountry\n",
      "indiaisgreatcountryandindiaishighlypopulatedcountry\n"
     ]
    }
   ],
   "source": [
    "# 19. Write a Python function to remove all whitespace characters from a string.\n",
    "x = 'india is great country and india is highly populated country'\n",
    "xx = ''.join(i for i in x if i!= ' ')\n",
    "print(xx)\n",
    "#############################\n",
    "xx = x.replace(\" \",\"\")\n",
    "print(xx)\n"
   ]
  },
  {
   "cell_type": "code",
   "execution_count": 18,
   "id": "8b1fc257-9391-42de-99a7-1a380812d872",
   "metadata": {},
   "outputs": [
    {
     "name": "stdout",
     "output_type": "stream",
     "text": [
      "['12']\n"
     ]
    }
   ],
   "source": [
    "\n",
    "# 22. Write a Python function to extract numbers from a string.\n",
    "x = 'India1usa2'\n",
    "xx = [''.join(i for i in x if i.isdigit())]\n",
    "print(xx)\n",
    "\n"
   ]
  },
  {
   "cell_type": "code",
   "execution_count": 19,
   "id": "5ab0cf46-6c6c-4e3a-adc8-35947b21770e",
   "metadata": {},
   "outputs": [
    {
     "name": "stdout",
     "output_type": "stream",
     "text": [
      "['india@ind.com']\n"
     ]
    }
   ],
   "source": [
    "# 23. Write a Python function to extract email addresses from a string.\n",
    "import re\n",
    "x = 'my email id is india@ind.com'\n",
    "xx =  re.findall(r'\\b[A-Za-z0-9._%+-]+@[A-Za-z0-9.-]+\\.[A-Z|a-z]{2,}\\b', x)\n",
    "print(xx)"
   ]
  },
  {
   "cell_type": "code",
   "execution_count": 20,
   "id": "f3e93bd9-231b-499e-b7dd-bb6a49d03d24",
   "metadata": {},
   "outputs": [
    {
     "name": "stdout",
     "output_type": "stream",
     "text": [
      "Original string: Hello, world!\n",
      "String after replacement: Hello, universe!\n"
     ]
    }
   ],
   "source": [
    "# 25. Write a Python function to replace a substring with another substring in a string.\n",
    "\n",
    "def replace_substring(input_string, old_substring, new_substring):\n",
    "    return input_string.replace(old_substring, new_substring)\n",
    "\n",
    "# Example usage:\n",
    "test_string = \"Hello, world!\"\n",
    "result = replace_substring(test_string, \"world\", \"universe\")\n",
    "print(\"Original string:\", test_string)\n",
    "print(\"String after replacement:\", result)\n"
   ]
  },
  {
   "cell_type": "code",
   "execution_count": 21,
   "id": "980d9d2a-c69c-415a-9517-94ae6cb0045d",
   "metadata": {},
   "outputs": [
    {
     "name": "stdout",
     "output_type": "stream",
     "text": [
      "{'india': 2, 'is': 2, 'great': 1, 'country': 2, 'and': 1, 'highly': 1, 'populated': 1}\n",
      "{'india': 2, 'is': 2, 'great': 1, 'country': 2, 'and': 1, 'highly': 1, 'populated': 1}\n"
     ]
    }
   ],
   "source": [
    "# 26. Write a Python function to count the number of occurrences of a substring in a string.\n",
    "x = 'india is great country and india is highly populated country'\n",
    "xx = x.split()\n",
    "c = dict(Counter(xx))\n",
    "print(c)\n",
    "#########################\n",
    "cc = {}\n",
    "for i in xx:\n",
    "    if i in cc:\n",
    "        cc[i] = cc[i] +1\n",
    "    else:\n",
    "        cc[i] = 1\n",
    "print(cc)\n",
    "###################\n"
   ]
  },
  {
   "cell_type": "code",
   "execution_count": 22,
   "id": "45100b60-6437-48d1-9e26-1d8c74e94276",
   "metadata": {},
   "outputs": [
    {
     "name": "stdout",
     "output_type": "stream",
     "text": [
      "i\n",
      "i\n"
     ]
    }
   ],
   "source": [
    "# 27. Write a Python function to find the most common character in a string.\n",
    "x = 'india is great country and india is highly populated'\n",
    "x = x.replace(\" \", \"\")\n",
    "# Use a dictionary comprehension to count the occurrences of each character\n",
    "char_counts = {char: x.count(char) for char in x}\n",
    "# Find the most common character\n",
    "most_common = max(char_counts, key=char_counts.get)\n",
    "print(most_common)\n",
    "###############################\n",
    "c = dict(Counter(x))\n",
    "print(list(c.keys())[0])\n"
   ]
  },
  {
   "cell_type": "code",
   "execution_count": 23,
   "id": "ada6ba57-ec29-4c9d-a3f3-e6c57a240c7c",
   "metadata": {},
   "outputs": [
    {
     "name": "stdout",
     "output_type": "stream",
     "text": [
      "Does 'hello world' start with 'hello'? True\n"
     ]
    }
   ],
   "source": [
    "# 28. Write a Python function to check if a string starts with a specified prefix.\n",
    "def starts_with_prefix(input_string, prefix):\n",
    "    return input_string.startswith(prefix)\n",
    "\n",
    "# Example usage:\n",
    "test_string = \"hello world\"\n",
    "prefix_to_check = \"hello\"\n",
    "result = starts_with_prefix(test_string, prefix_to_check)\n",
    "print(f\"Does '{test_string}' start with '{prefix_to_check}'? {result}\")\n",
    "\n"
   ]
  },
  {
   "cell_type": "code",
   "execution_count": 24,
   "id": "4e939587-b957-45f1-906d-a5acbdf4be5e",
   "metadata": {},
   "outputs": [
    {
     "name": "stdout",
     "output_type": "stream",
     "text": [
      "Does 'hello world' ends with 'hello'? False\n"
     ]
    }
   ],
   "source": [
    "# 29. Write a Python function to check if a string ends with a specified suffix.\n",
    "def starts_with_prefix(input_string, sufffix):\n",
    "    return input_string.endswith(sufffix)\n",
    "\n",
    "# Example usage:\n",
    "test_string = \"hello world\"\n",
    "prefix_to_check = \"hello\"\n",
    "result = starts_with_prefix(test_string, prefix_to_check)\n",
    "print(f\"Does '{test_string}' ends with '{prefix_to_check}'? {result}\")\n",
    "\n"
   ]
  },
  {
   "cell_type": "code",
   "execution_count": 25,
   "id": "6e96e65e-b30d-48a8-81c5-0a3844e1ba9f",
   "metadata": {},
   "outputs": [
    {
     "name": "stdout",
     "output_type": "stream",
     "text": [
      "aidni si taerg yrtnuoc dna aidni si ylhgih detalupop\n",
      "populated highly is india and country great is india\n",
      "detalupop ylhgih si aidni dna yrtnuoc taerg si aidni\n"
     ]
    }
   ],
   "source": [
    "\n",
    "# 30. Write a Python function to reverse words in a sentence.\n",
    "x = 'india is great country and india is highly populated'\n",
    "x = x.split()\n",
    "c = ' '.join(i[::-1] for i in x)\n",
    "print(c)\n",
    "#################\n",
    "c = ' '.join(reversed(x))\n",
    "print(c)\n",
    "########################\n",
    "xx = reversed(x)\n",
    "c = ' '.join((i[::-1]) for i in xx)\n",
    "print(c)"
   ]
  },
  {
   "cell_type": "code",
   "execution_count": 36,
   "id": "e3013144-f5df-49ab-869b-2528a5831635",
   "metadata": {},
   "outputs": [
    {
     "name": "stdout",
     "output_type": "stream",
     "text": [
      "True\n"
     ]
    }
   ],
   "source": [
    "# 31. Write a Python function to check if a string is a valid URL.\n",
    "x = 'https://google.com'\n",
    "url = bool(re.match(r'^https?://\\S+\\.[a-zA-Z]{2,}$',x))\n",
    "print(url)\n"
   ]
  },
  {
   "cell_type": "code",
   "execution_count": 39,
   "id": "a83b0c06-b725-45a7-b180-49ece1181ee1",
   "metadata": {},
   "outputs": [
    {
     "name": "stdout",
     "output_type": "stream",
     "text": [
      "\n",
      "Title\n",
      "A long text........ \n",
      " a link \n",
      "\n"
     ]
    }
   ],
   "source": [
    "# 32. Write a Python function to remove HTML tags from a string.\n",
    "text = \"\"\"<div>\n",
    "<h1>Title</h1>\n",
    "<p>A long text........ </p>\n",
    "<a href=\"\"> a link </a>\n",
    "</div>\"\"\"\n",
    "\n",
    "# CLEANR = re.compile('<.*?>')\n",
    "cleantext = re.sub(r'<.*?>', '', text)\n",
    "print(cleantext)\n",
    "\n"
   ]
  },
  {
   "cell_type": "code",
   "execution_count": 46,
   "id": "fb7168b2-9371-4ed3-8a56-54c3beb026cf",
   "metadata": {},
   "outputs": [],
   "source": [
    "# 33. Write a Python function to check if a string contains only printable characters.\n",
    "import string  \n",
    "x = 'India is great'\n",
    "for i in x:\n",
    "    if i in string.printable:\n",
    "        pass\n",
    "    else:\n",
    "        print('it has non printable chrs')\n",
    "\n"
   ]
  },
  {
   "cell_type": "code",
   "execution_count": 50,
   "id": "61eacd91-3bd9-4d51-b2a7-e42a09391086",
   "metadata": {},
   "outputs": [
    {
     "name": "stdout",
     "output_type": "stream",
     "text": [
      "Geeks----\n",
      "Geeks----\n"
     ]
    }
   ],
   "source": [
    "# 34. Write a Python function to remove leading and trailing whitespace characters from a string.\n",
    "\n",
    "# Perl program for removing leading and \n",
    "# trailing white spaces using trim \n",
    "\n",
    "#!/usr/bin/perl \n",
    "\n",
    "# Original String \n",
    "str1 = \"\t Geeks----\"\n",
    "str2 = \"Geeks----     \"\n",
    "str1 = str1.strip()\n",
    "str2 = str2.strip()\n",
    "print(str1)\n",
    "print(str2)\n"
   ]
  },
  {
   "cell_type": "code",
   "execution_count": 51,
   "id": "b699b07b-6b4d-44df-ab80-bc6f81306145",
   "metadata": {},
   "outputs": [
    {
     "name": "stdout",
     "output_type": "stream",
     "text": [
      "['abc', 'acb', 'bac', 'bca', 'cab', 'cba']\n",
      "['a', 'b', 'c', 'ab', 'ac', 'bc', 'abc']\n",
      "65\n"
     ]
    }
   ],
   "source": [
    "# 38. Write a Python function to find all permutations of a string.\n",
    "from itertools import permutations\n",
    "\n",
    "def find_permutations(s):\n",
    "    return [''.join(p) for p in permutations(s)]\n",
    "\n",
    "# Example usage:\n",
    "string = \"abc\"\n",
    "print(find_permutations(string))  # Output: ['abc', 'acb', 'bac', 'bca', 'cab', 'cba']\n",
    "\n",
    "# 39. Write a Python function to find all combinations of a string.\n",
    "from itertools import combinations\n",
    "\n",
    "def find_combinations(s):\n",
    "    result = []\n",
    "    for r in range(1, len(s) + 1):\n",
    "        result.extend([''.join(c) for c in combinations(s, r)])\n",
    "    return result\n",
    "\n",
    "# Example usage:\n",
    "string = \"abc\"\n",
    "print(find_combinations(string))  # Output: ['a', 'b', 'c', 'ab', 'ac', 'bc', 'abc']\n",
    "\n",
    "# 40. Write a Python function to find the ASCII value of a character.\n",
    "def find_ascii(character):\n",
    "    return ord(character)\n",
    "\n",
    "# Example usage:\n",
    "char = 'A'\n",
    "print(find_ascii(char))  # Output: 65\n",
    "\n",
    "\n"
   ]
  },
  {
   "cell_type": "code",
   "execution_count": 55,
   "id": "8a7049f5-450f-4545-beca-4eef6014daca",
   "metadata": {},
   "outputs": [
    {
     "name": "stdout",
     "output_type": "stream",
     "text": [
      "A\n"
     ]
    },
    {
     "data": {
      "text/plain": [
       "'india'"
      ]
     },
     "execution_count": 55,
     "metadata": {},
     "output_type": "execute_result"
    }
   ],
   "source": [
    "# 41. Write a Python function to find the character corresponding to an ASCII value.\n",
    "def find_character(ascii_value):\n",
    "    return chr(ascii_value)\n",
    "\n",
    "# Example usage:\n",
    "ascii_value = 65\n",
    "print(find_character(ascii_value))  # Output: 'A'\n",
    "\n",
    "# 42. Write a Python function to find the first occurrence of a non-repeating character in a string.\n",
    "L = [1,1,1,1,1,1,2,3,4,4,5,1,2]\n",
    "from itertools import groupby\n",
    "[key for key, _group in groupby(L)]\n",
    "# [1, 2, 3, 4, 5, 1, 2]\n",
    "\n",
    "# 43. Write a Python function to remove all consecutive duplicates from a string.\n",
    "\n",
    "x = 'iindiiaaa'\n",
    "res = ''\n",
    "for i in range(len(x)):\n",
    "    if i==0 or x[i] != x[i-1]:\n",
    "        res = res+x[i]\n",
    "print(res)\n"
   ]
  },
  {
   "cell_type": "code",
   "execution_count": 59,
   "id": "303ff0c6-b9e7-49fb-bb87-bfcbee7300e3",
   "metadata": {},
   "outputs": [
    {
     "name": "stdout",
     "output_type": "stream",
     "text": [
      "3\n"
     ]
    }
   ],
   "source": [
    "# 44. Write a Python function to find the length of the longest substring without repeating characters.\n",
    "def longest_substring_without_repeating(s):\n",
    "    char_index = {}\n",
    "    max_length = 0\n",
    "    start = 0\n",
    "\n",
    "    for end, char in enumerate(s):\n",
    "        # print(end, char)\n",
    "        start = max(start, char_index.get(char, -1) + 1)\n",
    "        # print(start)\n",
    "        char_index[char] = end\n",
    "        # print(char_index[char] ,end)\n",
    "        max_length = max(max_length, end - start + 1)\n",
    "        # print(max_length)\n",
    "    return max_length\n",
    "\n",
    "# Example usage:\n",
    "string = \"abcabcbb\"\n",
    "print(longest_substring_without_repeating(string))  # Output: 3\n",
    "\n"
   ]
  },
  {
   "cell_type": "code",
   "execution_count": null,
   "id": "81f97b6d-d027-44ff-88b4-713d11d75035",
   "metadata": {},
   "outputs": [],
   "source": [
    "\n",
    "# 45. Write a Python function to find the minimum window in a string which contains all the characters of another string."
   ]
  }
 ],
 "metadata": {
  "kernelspec": {
   "display_name": "Python 3 (ipykernel)",
   "language": "python",
   "name": "python3"
  },
  "language_info": {
   "codemirror_mode": {
    "name": "ipython",
    "version": 3
   },
   "file_extension": ".py",
   "mimetype": "text/x-python",
   "name": "python",
   "nbconvert_exporter": "python",
   "pygments_lexer": "ipython3",
   "version": "3.11.8"
  }
 },
 "nbformat": 4,
 "nbformat_minor": 5
}
