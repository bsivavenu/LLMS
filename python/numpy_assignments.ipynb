{
 "cells": [
  {
   "cell_type": "code",
   "execution_count": 2,
   "id": "1376eb8c-1131-4811-b001-d86e8bfbde8b",
   "metadata": {},
   "outputs": [],
   "source": [
    "import numpy as np\n",
    "\n"
   ]
  },
  {
   "cell_type": "code",
   "execution_count": 3,
   "id": "a3081a68-3cec-42ed-a2c1-1a6465a5cf69",
   "metadata": {},
   "outputs": [
    {
     "name": "stdout",
     "output_type": "stream",
     "text": [
      "[[0.49592371]\n",
      " [0.70610011]\n",
      " [0.7297064 ]\n",
      " [0.25490937]\n",
      " [0.77098431]\n",
      " [0.42020297]\n",
      " [0.73819897]\n",
      " [0.6577272 ]\n",
      " [0.08082517]\n",
      " [0.50507483]]\n"
     ]
    }
   ],
   "source": [
    "# 1. Create a 1D array of integers from 0 to 9.\n",
    "x = np.random.rand(10,1)\n",
    "print(x)"
   ]
  },
  {
   "cell_type": "code",
   "execution_count": 4,
   "id": "57c10b5b-f33d-4c95-86e1-9451e3c68fb0",
   "metadata": {},
   "outputs": [
    {
     "name": "stdout",
     "output_type": "stream",
     "text": [
      "[[0 1 2]\n",
      " [3 4 5]\n",
      " [6 7 8]]\n"
     ]
    }
   ],
   "source": [
    "# 2. Create a 3x3 matrix with values ranging from 0 to 8.\n",
    "x = np.arange(9).reshape(3, 3)\n",
    "print(x)"
   ]
  },
  {
   "cell_type": "code",
   "execution_count": 5,
   "id": "879636d1-6508-44b6-a12c-beba442ca9fa",
   "metadata": {},
   "outputs": [
    {
     "name": "stdout",
     "output_type": "stream",
     "text": [
      "[[1. 0. 0.]\n",
      " [0. 1. 0.]\n",
      " [0. 0. 1.]]\n"
     ]
    }
   ],
   "source": [
    "\n",
    "\n",
    "# 3. Create a 3x3 identity matrix.\n",
    "x = np.identity(3)\n",
    "print(x)"
   ]
  },
  {
   "cell_type": "code",
   "execution_count": 6,
   "id": "9ed59511-069e-4e6b-9404-670395e5f816",
   "metadata": {},
   "outputs": [
    {
     "name": "stdout",
     "output_type": "stream",
     "text": [
      "[[0.95707533 0.84288108 0.3868536 ]\n",
      " [0.51807338 0.41888406 0.37292123]]\n"
     ]
    }
   ],
   "source": [
    "\n",
    "\n",
    "# 4. Generate a 2x3 array with random numbers between 0 and 1.\n",
    "x = np.random.rand(2,3)\n",
    "print(x)"
   ]
  },
  {
   "cell_type": "code",
   "execution_count": 7,
   "id": "9cc2c523-2a59-4f9c-a141-c75dc5394678",
   "metadata": {},
   "outputs": [
    {
     "name": "stdout",
     "output_type": "stream",
     "text": [
      "[[2. 2. 2. 2. 2.]\n",
      " [2. 2. 2. 2. 2.]\n",
      " [2. 2. 2. 2. 2.]\n",
      " [2. 2. 2. 2. 2.]\n",
      " [2. 2. 2. 2. 2.]]\n"
     ]
    }
   ],
   "source": [
    "\n",
    "\n",
    "# 5. Create a 5x5 array with all values as 2.\n",
    "print(np.ones([5,5])*2)"
   ]
  },
  {
   "cell_type": "code",
   "execution_count": 8,
   "id": "60a79c58-b89a-4692-9d95-0648a0a4f832",
   "metadata": {},
   "outputs": [
    {
     "name": "stdout",
     "output_type": "stream",
     "text": [
      "[[[0.5137771  0.23705342 0.11054311]\n",
      "  [0.00368371 0.86168775 0.91680237]\n",
      "  [0.97506274 0.91300231 0.68636004]]\n",
      "\n",
      " [[0.66151642 0.83385573 0.90259811]\n",
      "  [0.0673478  0.59839605 0.90536887]\n",
      "  [0.68289124 0.96249244 0.5731658 ]]\n",
      "\n",
      " [[0.81266764 0.42475993 0.91376236]\n",
      "  [0.42636405 0.04277489 0.56678373]\n",
      "  [0.42979074 0.74022911 0.04866032]]]\n"
     ]
    }
   ],
   "source": [
    "\n",
    "\n",
    "# 6. Create a 3x3x3 array with random values.\n",
    "x = np.random.rand(3,3,3)\n",
    "print(x)"
   ]
  },
  {
   "cell_type": "code",
   "execution_count": 9,
   "id": "da67e928-0209-49fd-ba68-bab9a6478c29",
   "metadata": {},
   "outputs": [
    {
     "name": "stdout",
     "output_type": "stream",
     "text": [
      "[[0.71906011 0.63690673 0.83851992 0.32587849 0.47018829 0.34600191\n",
      "  0.77342561 0.09783758 0.82546695 0.13229342]\n",
      " [0.81278681 0.78891765 0.71478143 0.23827531 0.44734648 0.5186733\n",
      "  0.74268319 0.75365786 0.0591259  0.24289082]\n",
      " [0.90526639 0.56615584 0.36948738 0.73067985 0.48587976 0.94862567\n",
      "  0.00444615 0.35586109 0.39150138 0.96016867]\n",
      " [0.42471805 0.15515987 0.48161507 0.2117127  0.44397768 0.68798772\n",
      "  0.29367743 0.57401822 0.3106799  0.52854452]\n",
      " [0.88665482 0.21855618 0.63225161 0.68778476 0.09316835 0.44100645\n",
      "  0.75411322 0.58193114 0.9409728  0.59016383]\n",
      " [0.72903151 0.52247262 0.64523692 0.0782557  0.77562927 0.53565468\n",
      "  0.8411459  0.54946271 0.65195408 0.16180275]\n",
      " [0.49427947 0.74344792 0.87925354 0.9827828  0.34962223 0.7403402\n",
      "  0.72515643 0.29020911 0.64937891 0.98474665]\n",
      " [0.79877031 0.84564158 0.59245899 0.18240918 0.77979801 0.16496276\n",
      "  0.16061071 0.59365165 0.97291529 0.72529578]\n",
      " [0.07962826 0.68194289 0.63746242 0.71361937 0.73839895 0.63812336\n",
      "  0.09115879 0.22296231 0.1920277  0.94713239]\n",
      " [0.46631542 0.01012707 0.13039577 0.71946217 0.12782693 0.71890575\n",
      "  0.54547828 0.38828948 0.98834214 0.43490705]]\n",
      "0.0044461472436303495 0.9883421359015503\n"
     ]
    }
   ],
   "source": [
    "\n",
    "\n",
    "# 7. Create a 10x10 array with random values and find the minimum and maximum values.\n",
    "x = np.random.rand(10,10)\n",
    "print(x)\n",
    "print(x.min(),x.max())"
   ]
  },
  {
   "cell_type": "code",
   "execution_count": 10,
   "id": "4b468d02-2d6c-4942-855a-4f23067393ed",
   "metadata": {},
   "outputs": [
    {
     "name": "stdout",
     "output_type": "stream",
     "text": [
      "[0.05409791 0.04296828 0.5306402  0.21178274 0.01193526 0.06756176\n",
      " 0.95911639 0.51436658 0.88510999 0.23272049 0.90680071 0.44839463\n",
      " 0.15207757 0.32936439 0.80104136 0.92267538 0.23884661 0.43693998\n",
      " 0.57945652 0.81872492 0.85525074 0.05877707 0.22158529 0.97236902\n",
      " 0.26339241 0.96241932 0.22991289 0.03443388 0.69998051 0.22436722] \n",
      " 0.4555703339979703\n"
     ]
    }
   ],
   "source": [
    "\n",
    "\n",
    "# 8. Create a random vector of size 30 and find the mean value.\n",
    "x = np.random.rand(30)\n",
    "print(x,'\\n',x.mean())"
   ]
  },
  {
   "cell_type": "code",
   "execution_count": 11,
   "id": "3d278e4f-7e99-464d-9dfb-0b98f339367a",
   "metadata": {},
   "outputs": [
    {
     "name": "stdout",
     "output_type": "stream",
     "text": [
      "[0.9581728  0.19040223 0.85611527 0.53573224 0.80401449 0.05070066\n",
      " 0.45745336 0.48386314 0.99347588 0.9166211  0.12191887 0.80068877\n",
      " 0.36985372 0.34954024 0.59013525 0.70151303 0.34964627 0.61770401\n",
      " 0.56791645 0.19980348 0.28094371 0.55644619 0.64008076 0.06392554\n",
      " 0.94555618 0.06356402 0.30120959 0.00207556 0.78995177 0.73864368] [[0.569781   0.21252037 0.75062866 0.17441515 0.94548813 0.72012269\n",
      "  0.68244108 0.94352325 0.33378533 0.24020289 0.6124253  0.30670284\n",
      "  0.05303502 0.56999868 0.6892021  0.73761334 0.75993484 0.92249273\n",
      "  0.1331896  0.98886496 0.51166841 0.51062726 0.80926898 0.69718069\n",
      "  0.60253204 0.78226827 0.70621713 0.51966198 0.7624688  0.52854069]] [[[0.80422212 0.89349482 0.16956939 0.20900791 0.2587812  0.09257167\n",
      "   0.43218265 0.87740871 0.77673337 0.5750688  0.4286287  0.85343619\n",
      "   0.28632111 0.44531933 0.35709342 0.26845272 0.74343158 0.61916292\n",
      "   0.18066898 0.66065302 0.56254703 0.01700991 0.73221891 0.99571505\n",
      "   0.94433253 0.37005645 0.77150183 0.33239663 0.30279764 0.91036607]]] [[[0.35940221]\n",
      "  [0.80513286]\n",
      "  [0.93261634]\n",
      "  [0.14497042]\n",
      "  [0.15881749]\n",
      "  [0.08913639]\n",
      "  [0.98065412]\n",
      "  [0.57749229]\n",
      "  [0.27063372]\n",
      "  [0.84847042]\n",
      "  [0.98094673]\n",
      "  [0.07583218]\n",
      "  [0.85563203]\n",
      "  [0.8796213 ]\n",
      "  [0.37728989]\n",
      "  [0.49575512]\n",
      "  [0.20265495]\n",
      "  [0.63011388]\n",
      "  [0.44713689]\n",
      "  [0.26272283]\n",
      "  [0.06116376]\n",
      "  [0.4122492 ]\n",
      "  [0.14341414]\n",
      "  [0.47356879]\n",
      "  [0.19510469]\n",
      "  [0.18756183]\n",
      "  [0.55780683]\n",
      "  [0.44824411]\n",
      "  [0.32518716]\n",
      "  [0.17658627]]] [[[0.25403029]]\n",
      "\n",
      " [[0.54210956]]\n",
      "\n",
      " [[0.00325066]]\n",
      "\n",
      " [[0.78424173]]\n",
      "\n",
      " [[0.9972795 ]]\n",
      "\n",
      " [[0.64561834]]\n",
      "\n",
      " [[0.57048992]]\n",
      "\n",
      " [[0.03977951]]\n",
      "\n",
      " [[0.94815253]]\n",
      "\n",
      " [[0.01220031]]\n",
      "\n",
      " [[0.84637265]]\n",
      "\n",
      " [[0.28974028]]\n",
      "\n",
      " [[0.55715471]]\n",
      "\n",
      " [[0.94389638]]\n",
      "\n",
      " [[0.80365278]]\n",
      "\n",
      " [[0.32783403]]\n",
      "\n",
      " [[0.75993398]]\n",
      "\n",
      " [[0.48395297]]\n",
      "\n",
      " [[0.42148689]]\n",
      "\n",
      " [[0.06597335]]\n",
      "\n",
      " [[0.75549936]]\n",
      "\n",
      " [[0.10748917]]\n",
      "\n",
      " [[0.93649564]]\n",
      "\n",
      " [[0.57019648]]\n",
      "\n",
      " [[0.19446047]]\n",
      "\n",
      " [[0.43389109]]\n",
      "\n",
      " [[0.84889146]]\n",
      "\n",
      " [[0.83917995]]\n",
      "\n",
      " [[0.32392614]]\n",
      "\n",
      " [[0.92564432]]]\n"
     ]
    }
   ],
   "source": [
    "x = np.random.rand(30)\n",
    "a = np.random.rand(1,30)\n",
    "b = np.random.rand(1,1,30)\n",
    "c = np.random.rand(1,30,1)\n",
    "d = np.random.rand(30,1,1)\n",
    "print(x,a,b,c,d)"
   ]
  },
  {
   "cell_type": "code",
   "execution_count": 12,
   "id": "0334b2fe-d489-4aa1-9ae4-c6ddfd8b1f86",
   "metadata": {},
   "outputs": [
    {
     "name": "stdout",
     "output_type": "stream",
     "text": [
      "[[0 1 0 1 0 1 0 1]\n",
      " [1 0 1 0 1 0 1 0]\n",
      " [0 1 0 1 0 1 0 1]\n",
      " [1 0 1 0 1 0 1 0]\n",
      " [0 1 0 1 0 1 0 1]\n",
      " [1 0 1 0 1 0 1 0]\n",
      " [0 1 0 1 0 1 0 1]\n",
      " [1 0 1 0 1 0 1 0]]\n"
     ]
    }
   ],
   "source": [
    "\n",
    "\n",
    "# 10. Create a 8x8 matrix and fill it with a checkerboard pattern (0s and 1s).\n",
    "x = np.zeros((8,8),dtype=int)\n",
    "x[1::2,::2] = 1\n",
    "x[::2,1::2] = 1\n",
    "print(x)\n",
    "\n"
   ]
  },
  {
   "cell_type": "code",
   "execution_count": 13,
   "id": "2a4f6c7e-4e76-40cf-855e-3d62328f0998",
   "metadata": {},
   "outputs": [
    {
     "name": "stdout",
     "output_type": "stream",
     "text": [
      "[[0. 0. 0. 0. 0.]\n",
      " [0. 0. 0. 0. 0.]\n",
      " [0. 0. 0. 0. 0.]\n",
      " [0. 0. 0. 0. 0.]\n",
      " [0. 0. 0. 0. 0.]]\n",
      "[[1. 1. 1. 1. 1.]\n",
      " [1. 0. 0. 0. 1.]\n",
      " [1. 0. 0. 0. 1.]\n",
      " [1. 0. 0. 0. 1.]\n",
      " [1. 1. 1. 1. 1.]]\n"
     ]
    }
   ],
   "source": [
    "\n",
    "\n",
    "# 9. Create a 2d array with 1 on the border and 0 inside.\n",
    "x = np.zeros([5,5])\n",
    "print(x)\n",
    "x[0,:] = 1\n",
    "x[-1,:] = 1\n",
    "x[:,0] = 1\n",
    "x[:,-1] = 1\n",
    "print(x)"
   ]
  },
  {
   "cell_type": "code",
   "execution_count": 14,
   "id": "cf5c3e45-5189-4aaa-af8e-b22d2968d6d9",
   "metadata": {},
   "outputs": [
    {
     "name": "stdout",
     "output_type": "stream",
     "text": [
      "[0.012639919296574598, 0.1439993604070473, 0.16330445155792117, 0.28481044069729855, 0.4972978644636835, 0.5035748514583366, 0.5444469672303518, 0.5487905349465884, 0.5557040096467906, 0.8046243681840202]\n"
     ]
    }
   ],
   "source": [
    "# 11. Create a random vector of size 10 and sort it.\n",
    "x = np.random.rand(10)\n",
    "x = sorted(x)\n",
    "print(x)"
   ]
  },
  {
   "cell_type": "code",
   "execution_count": 15,
   "id": "3ca97f76-80c6-4703-8df6-f096fbee7b4f",
   "metadata": {},
   "outputs": [
    {
     "name": "stdout",
     "output_type": "stream",
     "text": [
      "[5 4 3 2 1]\n"
     ]
    }
   ],
   "source": [
    "\n",
    "\n",
    "# 12. How to reverse a numpy array?\n",
    "x = np.array([1,2,3,4,5])\n",
    "print(x[::-1])"
   ]
  },
  {
   "cell_type": "code",
   "execution_count": 16,
   "id": "a4754f47-f10b-4f35-ba69-e2a7980d6c80",
   "metadata": {},
   "outputs": [
    {
     "name": "stdout",
     "output_type": "stream",
     "text": [
      "[[6.89337839e-01 5.51346972e-04]\n",
      " [3.98572526e-01 5.96725510e-01]\n",
      " [5.35715079e-01 5.47712608e-01]\n",
      " [2.18517025e-01 9.28694928e-01]]\n"
     ]
    }
   ],
   "source": [
    "\n",
    "\n",
    "# 13. How to stack two arrays vertically?\n",
    "x = np.random.rand(2,2)\n",
    "y = np.random.rand(2,2)\n",
    "xy = np.vstack((x,y))\n",
    "print(xy)"
   ]
  },
  {
   "cell_type": "code",
   "execution_count": 17,
   "id": "0e499158-154d-4df9-a673-3e1c7c1e6e34",
   "metadata": {},
   "outputs": [
    {
     "name": "stdout",
     "output_type": "stream",
     "text": [
      "[[0 0 0 0 0]\n",
      " [1 0 0 0 0]\n",
      " [0 2 0 0 0]\n",
      " [0 0 3 0 0]\n",
      " [0 0 0 4 0]]\n"
     ]
    }
   ],
   "source": [
    "\n",
    "\n",
    "# 15. Create a 5x5 matrix with values 1,2,3,4 just below the diagonal.\n",
    "matrix = np.zeros((5, 5), dtype=int)\n",
    "np.fill_diagonal(matrix[1:], [1, 2, 3, 4])\n",
    "print(matrix)\n"
   ]
  },
  {
   "cell_type": "code",
   "execution_count": 18,
   "id": "0f3aa9cd-8ff0-493e-9d6a-6ba08d81fe8b",
   "metadata": {},
   "outputs": [
    {
     "name": "stdout",
     "output_type": "stream",
     "text": [
      "[[0.47448794 0.47792341 0.99952679 0.23642948]\n",
      " [0.11791771 0.55586127 0.65546728 0.75084335]]\n"
     ]
    }
   ],
   "source": [
    "\n",
    "\n",
    "# 14. How to stack two arrays horizontally?\n",
    "x = np.random.rand(2,2)\n",
    "y = np.random.rand(2,2)\n",
    "xy = np.hstack((x,y))\n",
    "print(xy)"
   ]
  },
  {
   "cell_type": "code",
   "execution_count": 19,
   "id": "975adb1e-59c9-4e8f-84a1-30b653c1b168",
   "metadata": {},
   "outputs": [
    {
     "name": "stdout",
     "output_type": "stream",
     "text": [
      "[[0 1 0 0 0]\n",
      " [0 0 2 0 0]\n",
      " [0 0 0 3 0]\n",
      " [0 0 0 0 4]\n",
      " [0 0 0 0 0]]\n"
     ]
    }
   ],
   "source": [
    "# 16. Create a 5x5 matrix with values 1,2,3,4 just above the diagonal.\n",
    "matrix = np.zeros((5, 5), dtype=int)\n",
    "np.fill_diagonal(matrix[:,1:], [1, 2, 3, 4])\n",
    "print(matrix)"
   ]
  },
  {
   "cell_type": "code",
   "execution_count": 20,
   "id": "27e07f23-521b-42b7-ae49-4dda7652ebfb",
   "metadata": {},
   "outputs": [
    {
     "name": "stdout",
     "output_type": "stream",
     "text": [
      "[[1 0 1 0 1 0 1 0]\n",
      " [0 1 0 1 0 1 0 1]\n",
      " [1 0 1 0 1 0 1 0]\n",
      " [0 1 0 1 0 1 0 1]\n",
      " [1 0 1 0 1 0 1 0]\n",
      " [0 1 0 1 0 1 0 1]\n",
      " [1 0 1 0 1 0 1 0]\n",
      " [0 1 0 1 0 1 0 1]]\n"
     ]
    }
   ],
   "source": [
    "\n",
    "\n",
    "# 18. Create a checkerboard 8x8 matrix using the tile function.\n",
    "x = np.array([[1,0],[0,1]])\n",
    "x = np.tile(x,(4,4))\n",
    "print(x)\n"
   ]
  },
  {
   "cell_type": "code",
   "execution_count": 21,
   "id": "98d8e93f-393d-4c62-a7ec-13c8d1c9359d",
   "metadata": {},
   "outputs": [
    {
     "name": "stdout",
     "output_type": "stream",
     "text": [
      "[[0.4472544  0.30676703 0.8689563  0.58880295 0.28729721]\n",
      " [0.54262264 0.42668724 0.15245641 0.25382339 0.078493  ]\n",
      " [0.43115776 0.42055569 0.09018531 0.23351529 0.10731824]\n",
      " [0.35870898 0.         1.         0.15703129 0.17655368]\n",
      " [0.51921924 0.40442815 0.71105398 0.01137792 0.79854926]]\n"
     ]
    }
   ],
   "source": [
    "\n",
    "# 19. Normalize a 5x5 random matrix.\n",
    "random_matrix = np.random.rand(5,5)\n",
    "normalized_matrix = (random_matrix - random_matrix.min()) / (random_matrix.max() - random_matrix.min())\n",
    "print(normalized_matrix)"
   ]
  },
  {
   "cell_type": "code",
   "execution_count": 22,
   "id": "e9ec6197-01c1-4ffe-a981-7862dc14f7c9",
   "metadata": {},
   "outputs": [
    {
     "name": "stdout",
     "output_type": "stream",
     "text": [
      "[[0.52256893 1.69325321 1.99002067 0.84036169 1.21200349]\n",
      " [0.51168061 1.59587546 1.67811974 0.71539713 1.13943329]\n",
      " [0.36040633 1.10760095 0.9978813  0.51913083 0.72989942]\n",
      " [0.60121538 1.95190267 2.2345457  1.00128952 1.35902514]\n",
      " [0.40008737 1.19571927 0.92949479 0.52977881 0.76794361]]\n"
     ]
    }
   ],
   "source": [
    "\n",
    "\n",
    "# 20. Multiply a 5x3 matrix by a 3x2 matrix (real matrix product).\n",
    "x = np.random.rand(5,3)\n",
    "y = np.random.rand(3,5)\n",
    "result = np.dot(x, y)\n",
    "print(result)"
   ]
  },
  {
   "cell_type": "code",
   "execution_count": 23,
   "id": "ef0f7d67-e58f-4b6c-8cf5-b7abf32db5f7",
   "metadata": {},
   "outputs": [
    {
     "name": "stdout",
     "output_type": "stream",
     "text": [
      "Random Array: [4.6452041  9.29722758 0.80683011 9.28554166 0.53017483]\n",
      "Integer Part Array: [4 9 0 9 0]\n"
     ]
    }
   ],
   "source": [
    "# 21. Extract the integer part of a random array.\n",
    "import numpy as np\n",
    "\n",
    "# Generate a random array with both integers and floating-point numbers\n",
    "random_array = np.random.rand(5) * 10  # Generate 5 random numbers between 0 and 10\n",
    "\n",
    "# Extract the integer part of each element\n",
    "integer_part_array = random_array.astype(int)\n",
    "\n",
    "print(\"Random Array:\", random_array)\n",
    "print(\"Integer Part Array:\", integer_part_array)\n"
   ]
  },
  {
   "cell_type": "code",
   "execution_count": 25,
   "id": "680fb2b7-23ad-41bb-b814-2f6c8e57766d",
   "metadata": {},
   "outputs": [
    {
     "name": "stdout",
     "output_type": "stream",
     "text": [
      "[[0 1 2 3 4]\n",
      " [1 2 3 4 5]\n",
      " [2 3 4 5 6]\n",
      " [3 4 5 6 7]\n",
      " [4 5 6 7 8]]\n"
     ]
    }
   ],
   "source": [
    "\n",
    "# 22. Create a 5x5 matrix with row values ranging from 0 to 4.\n",
    "import numpy as np\n",
    "\n",
    "# Create a 5x5 matrix with row values ranging from 0 to 4\n",
    "matrix = np.arange(5).reshape(1, -1) + np.arange(5).reshape(-1, 1)\n",
    "print(matrix)\n"
   ]
  },
  {
   "cell_type": "code",
   "execution_count": 32,
   "id": "70f719d5-d9cc-45de-92b3-3fb8d9262c27",
   "metadata": {},
   "outputs": [
    {
     "name": "stdout",
     "output_type": "stream",
     "text": [
      "[0.17350883 0.4209691  0.71991269 0.18816544 0.54255189 0.\n",
      " 0.48911963 0.77827668 0.57240704 0.12277196]\n",
      "Random Vector with Maximum Value Replaced: [0.17350883 0.4209691  0.71991269 0.18816544 0.54255189 0.\n",
      " 0.48911963 0.77827668 0.57240704 0.12277196]\n"
     ]
    }
   ],
   "source": [
    "\n",
    "# 23. Create a random vector of size 10 and replace the maximum value by 0.\n",
    "import numpy as np\n",
    "\n",
    "# Create a random vector of size 10\n",
    "random_vector = np.random.rand(10)\n",
    "\n",
    "# Find the index of the maximum value\n",
    "max_index = np.argmax(random_vector)\n",
    "\n",
    "# Replace the maximum value with 0\n",
    "random_vector[max_index] = 0\n",
    "\n",
    "print(random_vector)\n",
    "\n",
    "print(\"Random Vector with Maximum Value Replaced:\", random_vector)\n"
   ]
  },
  {
   "cell_type": "code",
   "execution_count": 33,
   "id": "c3abe2e2-4803-445d-ad79-f2dac171a70e",
   "metadata": {},
   "outputs": [
    {
     "name": "stdout",
     "output_type": "stream",
     "text": [
      "Closest value to 6 in the array: 5\n"
     ]
    }
   ],
   "source": [
    "\n",
    "# 24. How to find the closest value (to a given scalar) in an array?\n",
    "import numpy as np\n",
    "\n",
    "def find_closest_value(array, scalar):\n",
    "    index = np.abs(array - scalar).argmin()  # Find the index with the minimum absolute difference\n",
    "    closest_value = array[index]\n",
    "    return closest_value\n",
    "\n",
    "# Example usage:\n",
    "array = np.array([1, 3, 5, 7, 9])\n",
    "scalar = 6\n",
    "closest_value = find_closest_value(array, scalar)\n",
    "print(\"Closest value to\", scalar, \"in the array:\", closest_value)\n"
   ]
  },
  {
   "cell_type": "code",
   "execution_count": null,
   "id": "4957e141-af83-4bdb-9990-5177bb551df9",
   "metadata": {},
   "outputs": [],
   "source": []
  },
  {
   "cell_type": "code",
   "execution_count": 36,
   "id": "beb3fb49-11b6-47b8-94c9-b50a6af186c5",
   "metadata": {},
   "outputs": [
    {
     "name": "stdout",
     "output_type": "stream",
     "text": [
      "Original Matrix:\n",
      "[[1 2 3]\n",
      " [4 5 6]\n",
      " [7 8 9]]\n",
      "\n",
      "Mean Subtracted Matrix:\n",
      "[[-1.  0.  1.]\n",
      " [-1.  0.  1.]\n",
      " [-1.  0.  1.]]\n"
     ]
    }
   ],
   "source": [
    "\n",
    "# 25. Subtract the mean of each row of a matrix.\n",
    "import numpy as np\n",
    "\n",
    "# Create a sample matrix\n",
    "matrix = np.array([[1, 2, 3],\n",
    "                   [4, 5, 6],\n",
    "                   [7, 8, 9]])\n",
    "\n",
    "# Subtract the mean of each row\n",
    "mean_subtracted_matrix = matrix - np.mean(matrix, axis=1, keepdims=True)\n",
    "\n",
    "\n",
    "print(\"Original Matrix:\")\n",
    "print(matrix)\n",
    "print(\"\\nMean Subtracted Matrix:\")\n",
    "print(mean_subtracted_matrix)"
   ]
  },
  {
   "cell_type": "code",
   "execution_count": 37,
   "id": "43ee1c11-38a8-4240-a435-bd9a08a476d4",
   "metadata": {},
   "outputs": [
    {
     "name": "stdout",
     "output_type": "stream",
     "text": [
      "Original Array:\n",
      "[[1 4 3]\n",
      " [6 2 8]\n",
      " [5 7 9]]\n",
      "\n",
      "Sorted Array by the 2 column:\n",
      "[[6 2 8]\n",
      " [1 4 3]\n",
      " [5 7 9]]\n"
     ]
    }
   ],
   "source": [
    "# 26. How to sort an array by the nth column?\n",
    "import numpy as np\n",
    "\n",
    "# Create a sample array\n",
    "array = np.array([[1, 4, 3],\n",
    "                  [6, 2, 8],\n",
    "                  [5, 7, 9]])\n",
    "\n",
    "# Define the index of the column by which to sort\n",
    "n = 1  # Sort by the second column (0-indexed)\n",
    "\n",
    "# Get the indices that would sort the array by the nth column\n",
    "sorted_indices = np.argsort(array[:, n])\n",
    "\n",
    "# Sort the array by the nth column using the sorted indices\n",
    "sorted_array = array[sorted_indices]\n",
    "\n",
    "print(\"Original Array:\")\n",
    "print(array)\n",
    "print(\"\\nSorted Array by the\", n+1, \"column:\")\n",
    "print(sorted_array)\n"
   ]
  },
  {
   "cell_type": "code",
   "execution_count": 39,
   "id": "5da069d6-9f87-4d9f-9a8a-214fb28dc733",
   "metadata": {},
   "outputs": [
    {
     "name": "stdout",
     "output_type": "stream",
     "text": [
      "Array with null columns: False\n",
      "Array without null columns: False\n"
     ]
    }
   ],
   "source": [
    "\n",
    "# 27. How to tell if a given 2D array has null columns?\n",
    "import numpy as np\n",
    "\n",
    "def has_null_columns(array):\n",
    "    column_sums = np.sum(array, axis=0)  # Calculate the sum of each column\n",
    "    return np.any(column_sums == 0)  # Check if any column sum is zero\n",
    "\n",
    "# Example usage:\n",
    "array_with_null_columns = np.array([[0, 1, 2],\n",
    "                                    [0, 0, 0],\n",
    "                                    [3, 4, 5]])\n",
    "\n",
    "array_without_null_columns = np.array([[1, 2, 3],\n",
    "                                       [4, 5, 6],\n",
    "                                       [7, 8, 9]])\n",
    "\n",
    "print(\"Array with null columns:\", has_null_columns(array_with_null_columns))\n",
    "print(\"Array without null columns:\", has_null_columns(array_without_null_columns))\n"
   ]
  },
  {
   "cell_type": "code",
   "execution_count": 41,
   "id": "c5f7ba89-28ca-49cb-842e-0aee21e8bd1c",
   "metadata": {},
   "outputs": [
    {
     "name": "stdout",
     "output_type": "stream",
     "text": [
      "Original Array:\n",
      "[[[0.77639388 0.76627425 0.28048299]\n",
      "  [0.15564779 0.62773066 0.00443543]\n",
      "  [0.41956242 0.19910246 0.97045694]]\n",
      "\n",
      " [[0.15977671 0.09341364 0.19027253]\n",
      "  [0.1959879  0.91270757 0.57855323]\n",
      "  [0.46794218 0.6841639  0.88852292]]\n",
      "\n",
      " [[0.28359128 0.93859816 0.29994189]\n",
      "  [0.69147939 0.06232336 0.00205404]\n",
      "  [0.57607171 0.16959592 0.28839806]]]\n",
      "\n",
      "Sum over the last two axes:\n",
      "[4.20008683 4.17134059 3.31205381]\n"
     ]
    }
   ],
   "source": [
    "\n",
    "# 28. Create an array of 3x3x3 with random values and find the sum over the last two axes.\n",
    "import numpy as np\n",
    "\n",
    "# Create a 3x3x3 array with random values\n",
    "array = np.random.rand(3, 3, 3)\n",
    "\n",
    "# Find the sum over the last two axes\n",
    "sum_over_last_two_axes = np.sum(array, axis=(-2, -1))\n",
    "\n",
    "print(\"Original Array:\")\n",
    "print(array)\n",
    "print(\"\\nSum over the last two axes:\")\n",
    "print(sum_over_last_two_axes)\n"
   ]
  },
  {
   "cell_type": "code",
   "execution_count": 44,
   "id": "f737afa8-c0e4-4f4a-8042-8ef552baf519",
   "metadata": {},
   "outputs": [
    {
     "name": "stdout",
     "output_type": "stream",
     "text": [
      "Original Array:\n",
      "[[1 2 3]\n",
      " [4 5 6]\n",
      " [7 8 9]]\n",
      "\n",
      "Array after swapping rows 0 and 1:\n",
      "[[4 5 6]\n",
      " [1 2 3]\n",
      " [7 8 9]]\n"
     ]
    }
   ],
   "source": [
    "\n",
    "# 29. How to swap two rows of an array?\n",
    "import numpy as np\n",
    "\n",
    "def swap_rows(array, row1, row2):\n",
    "    array[[row1, row2]] = array[[row2, row1]]\n",
    "\n",
    "# Example usage:\n",
    "array = np.array([[1, 2, 3],\n",
    "                  [4, 5, 6],\n",
    "                  [7, 8, 9]])\n",
    "\n",
    "print(\"Original Array:\")\n",
    "print(array)\n",
    "\n",
    "# Swap rows 0 and 1\n",
    "swap_rows(array, 0, 1)\n",
    "\n",
    "print(\"\\nArray after swapping rows 0 and 1:\")\n",
    "print(array)"
   ]
  },
  {
   "cell_type": "code",
   "execution_count": 42,
   "id": "0b16a313-ea8e-46fd-bc33-53211ae22b0d",
   "metadata": {},
   "outputs": [
    {
     "name": "stdout",
     "output_type": "stream",
     "text": [
      "Dot Product:\n",
      "[[ 30  24  18]\n",
      " [ 84  69  54]\n",
      " [138 114  90]]\n",
      "\n",
      "Diagonal of the Dot Product:\n",
      "[30 69 90]\n"
     ]
    }
   ],
   "source": [
    "\n",
    "# 30. How to get the diagonal of a dot product?\n",
    "import numpy as np\n",
    "\n",
    "# Create two sample matrices\n",
    "matrix1 = np.array([[1, 2, 3],\n",
    "                    [4, 5, 6],\n",
    "                    [7, 8, 9]])\n",
    "\n",
    "matrix2 = np.array([[9, 8, 7],\n",
    "                    [6, 5, 4],\n",
    "                    [3, 2, 1]])\n",
    "\n",
    "# Perform the dot product of the two matrices\n",
    "dot_product = np.dot(matrix1, matrix2)\n",
    "\n",
    "# Get the diagonal of the dot product\n",
    "diagonal = np.diagonal(dot_product)\n",
    "\n",
    "print(\"Dot Product:\")\n",
    "print(dot_product)\n",
    "print(\"\\nDiagonal of the Dot Product:\")\n",
    "print(diagonal)\n"
   ]
  },
  {
   "cell_type": "code",
   "execution_count": 47,
   "id": "55102ab0-d3f1-49c7-a0f5-db3fc9e85df5",
   "metadata": {},
   "outputs": [
    {
     "name": "stdout",
     "output_type": "stream",
     "text": [
      "Most frequent value in the array: 2\n"
     ]
    }
   ],
   "source": [
    "# 31. How to find the most frequent value in an array?\n",
    "import numpy as np\n",
    "\n",
    "def most_frequent_value(array):\n",
    "    counts = np.bincount(array)  # Count occurrences of each value\n",
    "    most_frequent_index = np.argmax(counts)  # Find the index of the maximum count\n",
    "    most_frequent_value = most_frequent_index  # The most frequent value is the index itself\n",
    "    return most_frequent_value\n",
    "\n",
    "# Example usage:\n",
    "array = np.array([1, 2, 3, 1, 2, 2, 3, 2, 2, 1])\n",
    "most_frequent = most_frequent_value(array)\n",
    "print(\"Most frequent value in the array:\", most_frequent)\n",
    "\n"
   ]
  },
  {
   "cell_type": "code",
   "execution_count": 48,
   "id": "809abdc2-9e9c-4128-9b01-36211824dcdc",
   "metadata": {},
   "outputs": [
    {
     "name": "stdout",
     "output_type": "stream",
     "text": [
      "The 3 largest values in the array: [5 6 9]\n"
     ]
    }
   ],
   "source": [
    "\n",
    "# 32. How to get the n largest values of an array?\n",
    "import numpy as np\n",
    "\n",
    "def n_largest_values(array, n):\n",
    "    sorted_indices = np.argsort(array)  # Get the indices that would sort the array\n",
    "    largest_indices = sorted_indices[-n:]  # Get the indices of the n largest values\n",
    "    largest_values = array[largest_indices]  # Get the n largest values\n",
    "    return largest_values\n",
    "\n",
    "# Example usage:\n",
    "array = np.array([3, 1, 4, 1, 5, 9, 2, 6, 5])\n",
    "n = 3\n",
    "largest_values = n_largest_values(array, n)\n",
    "print(\"The\", n, \"largest values in the array:\", largest_values)\n",
    "\n"
   ]
  },
  {
   "cell_type": "code",
   "execution_count": 49,
   "id": "409be610-629b-4b23-b60b-cb28a8a2c70f",
   "metadata": {},
   "outputs": [
    {
     "name": "stdout",
     "output_type": "stream",
     "text": [
      "Regular Array:\n",
      "[[1 2 3]\n",
      " [4 5 6]\n",
      " [7 8 9]]\n",
      "\n",
      "Record Array:\n",
      "[(1, 2, 3) (4, 5, 6) (7, 8, 9)]\n"
     ]
    }
   ],
   "source": [
    "\n",
    "# 33. How to create a record array from a regular array?\n",
    "import numpy as np\n",
    "\n",
    "# Define a regular array\n",
    "regular_array = np.array([[1, 2, 3],\n",
    "                           [4, 5, 6],\n",
    "                           [7, 8, 9]])\n",
    "\n",
    "# Define field names for each column\n",
    "field_names = ['column1', 'column2', 'column3']\n",
    "\n",
    "# Create a record array from the regular array\n",
    "record_array = np.core.records.fromarrays(regular_array.T, names=field_names)\n",
    "\n",
    "print(\"Regular Array:\")\n",
    "print(regular_array)\n",
    "print(\"\\nRecord Array:\")\n",
    "print(record_array)\n",
    "\n"
   ]
  },
  {
   "cell_type": "code",
   "execution_count": 50,
   "id": "5ab9b012-3c68-4de4-a101-5bbbc5934218",
   "metadata": {},
   "outputs": [
    {
     "name": "stdout",
     "output_type": "stream",
     "text": [
      "Are the results from all methods identical?\n",
      "True\n"
     ]
    }
   ],
   "source": [
    "\n",
    "\n",
    "# 34. Consider a large vector Z, compute Z to the power of 3 using three different methods.\n",
    "import numpy as np\n",
    "\n",
    "# Define a large vector Z (for example)\n",
    "Z = np.random.rand(1000000)  # 1 million random numbers\n",
    "\n",
    "# Method 1: Using a loop\n",
    "def cube_using_loop(Z):\n",
    "    result = np.empty_like(Z)\n",
    "    for i, z in enumerate(Z):\n",
    "        result[i] = z ** 3\n",
    "    return result\n",
    "\n",
    "# Method 2: Using numpy's element-wise power function\n",
    "def cube_using_np_power(Z):\n",
    "    return np.power(Z, 3)\n",
    "\n",
    "# Method 3: Using the ** operator\n",
    "def cube_using_operator(Z):\n",
    "    return Z ** 3\n",
    "\n",
    "# Test and compare the results\n",
    "result_loop = cube_using_loop(Z)\n",
    "result_np_power = cube_using_np_power(Z)\n",
    "result_operator = cube_using_operator(Z)\n",
    "\n",
    "# Check if all methods produce the same result\n",
    "print(\"Are the results from all methods identical?\")\n",
    "print(np.allclose(result_loop, result_np_power) and np.allclose(result_loop, result_operator))\n"
   ]
  },
  {
   "cell_type": "code",
   "execution_count": 51,
   "id": "682b19a3-9bdd-497d-a3c2-263f67606731",
   "metadata": {},
   "outputs": [
    {
     "name": "stdout",
     "output_type": "stream",
     "text": [
      "Are arrays A and B equal? True\n"
     ]
    }
   ],
   "source": [
    "\n",
    "# 35. Consider two arrays A and B, check if they are equal.\n",
    "import numpy as np\n",
    "\n",
    "# Example arrays A and B\n",
    "A = np.array([1, 2, 3])\n",
    "B = np.array([1, 2, 3])\n",
    "\n",
    "# Check if arrays A and B are equal\n",
    "are_equal = np.array_equal(A, B)\n",
    "\n",
    "print(\"Are arrays A and B equal?\", are_equal)\n"
   ]
  },
  {
   "cell_type": "code",
   "execution_count": 52,
   "id": "f929d059-5844-4467-8ef1-ee304af5d393",
   "metadata": {},
   "outputs": [
    {
     "name": "stdout",
     "output_type": "stream",
     "text": [
      "Random Vector with Maximum Value Replaced: [0.25690046 0.44844054 0.0997247  0.0397505  0.06316166 0.27134941\n",
      " 0.05374979 0.29893242 0.36276084 0.        ]\n"
     ]
    }
   ],
   "source": [
    "\n",
    "# 36. Create random vector of size 10 and replace the maximum value by 0.\n",
    "import numpy as np\n",
    "\n",
    "# Create a random vector of size 10\n",
    "random_vector = np.random.rand(10)\n",
    "\n",
    "# Find the index of the maximum value\n",
    "max_index = np.argmax(random_vector)\n",
    "\n",
    "# Replace the maximum value with 0\n",
    "random_vector[max_index] = 0\n",
    "\n",
    "print(\"Random Vector with Maximum Value Replaced:\", random_vector)\n"
   ]
  },
  {
   "cell_type": "code",
   "execution_count": 53,
   "id": "a9ab139a-1f0c-4441-a8d7-c235232f8aca",
   "metadata": {},
   "outputs": [
    {
     "name": "stdout",
     "output_type": "stream",
     "text": [
      "Structured Array with 'x' and 'y' coordinates:\n",
      "[[0.   0.  ]\n",
      " [0.25 0.  ]\n",
      " [0.5  0.  ]\n",
      " [0.75 0.  ]\n",
      " [1.   0.  ]\n",
      " [0.   0.25]\n",
      " [0.25 0.25]\n",
      " [0.5  0.25]\n",
      " [0.75 0.25]\n",
      " [1.   0.25]\n",
      " [0.   0.5 ]\n",
      " [0.25 0.5 ]\n",
      " [0.5  0.5 ]\n",
      " [0.75 0.5 ]\n",
      " [1.   0.5 ]\n",
      " [0.   0.75]\n",
      " [0.25 0.75]\n",
      " [0.5  0.75]\n",
      " [0.75 0.75]\n",
      " [1.   0.75]\n",
      " [0.   1.  ]\n",
      " [0.25 1.  ]\n",
      " [0.5  1.  ]\n",
      " [0.75 1.  ]\n",
      " [1.   1.  ]]\n"
     ]
    }
   ],
   "source": [
    "\n",
    "# 37. Create a structured array with `x` and `y` coordinates covering the [0,1]x[0,1] area.\n",
    "import numpy as np\n",
    "\n",
    "# Define the number of points in each dimension\n",
    "n_points = 5\n",
    "\n",
    "# Generate 'x' and 'y' coordinates covering the [0,1]x[0,1] area\n",
    "x_coordinates = np.linspace(0, 1, n_points)\n",
    "y_coordinates = np.linspace(0, 1, n_points)\n",
    "\n",
    "# Create a meshgrid of 'x' and 'y' coordinates\n",
    "X, Y = np.meshgrid(x_coordinates, y_coordinates)\n",
    "\n",
    "# Create a structured array with 'x' and 'y' coordinates\n",
    "structured_array = np.column_stack((X.ravel(), Y.ravel()))\n",
    "\n",
    "print(\"Structured Array with 'x' and 'y' coordinates:\")\n",
    "print(structured_array)\n"
   ]
  },
  {
   "cell_type": "code",
   "execution_count": 56,
   "id": "6164a08e-e15d-48fd-9bc2-a4939bd3a237",
   "metadata": {},
   "outputs": [
    {
     "name": "stdout",
     "output_type": "stream",
     "text": [
      "Integer types:\n",
      "int8: Min = -128, Max = 127\n",
      "int16: Min = -32768, Max = 32767\n",
      "int32: Min = -2147483648, Max = 2147483647\n",
      "int64: Min = -9223372036854775808, Max = 9223372036854775807\n",
      "\n",
      "Unsigned integer types:\n",
      "uint8: Min = 0, Max = 255\n",
      "uint16: Min = 0, Max = 65535\n",
      "uint32: Min = 0, Max = 4294967295\n",
      "uint64: Min = 0, Max = 18446744073709551615\n",
      "\n",
      "Floating-point types:\n",
      "float16: Min = -65504.0, Max = 65504.0\n",
      "float32: Min = -3.4028234663852886e+38, Max = 3.4028234663852886e+38\n",
      "float64: Min = -1.7976931348623157e+308, Max = 1.7976931348623157e+308\n"
     ]
    }
   ],
   "source": [
    "import numpy as np\n",
    "\n",
    "# Print minimum and maximum representable values for integer types\n",
    "print(\"Integer types:\")\n",
    "for dtype in [np.int8, np.int16, np.int32, np.int64]:\n",
    "    info = np.iinfo(dtype)\n",
    "    print(f\"{dtype.__name__}: Min = {info.min}, Max = {info.max}\")\n",
    "\n",
    "# Print minimum and maximum representable values for unsigned integer types\n",
    "print(\"\\nUnsigned integer types:\")\n",
    "for dtype in [np.uint8, np.uint16, np.uint32, np.uint64]:\n",
    "    info = np.iinfo(dtype)\n",
    "    print(f\"{dtype.__name__}: Min = {info.min}, Max = {info.max}\")\n",
    "\n",
    "# Print minimum and maximum representable values for floating-point types\n",
    "print(\"\\nFloating-point types:\")\n",
    "for dtype in [np.float16, np.float32, np.float64]:\n",
    "    info = np.finfo(dtype)\n",
    "    print(f\"{dtype.__name__}: Min = {info.min}, Max = {info.max}\")\n"
   ]
  },
  {
   "cell_type": "code",
   "execution_count": 57,
   "id": "0c2c80c2-41d3-4198-82be-4da8b5097d7e",
   "metadata": {},
   "outputs": [
    {
     "name": "stdout",
     "output_type": "stream",
     "text": [
      "Original boolean value: True\n",
      "Negated boolean value: False\n",
      "Original float value: -3.14\n"
     ]
    }
   ],
   "source": [
    "\n",
    "# 39. How to negate a boolean, or to change the sign of a float inplace?\n",
    "# Original boolean value\n",
    "boolean_value = True\n",
    "\n",
    "# Negate the boolean value\n",
    "negated_boolean = not boolean_value\n",
    "\n",
    "print(\"Original boolean value:\", boolean_value)\n",
    "print(\"Negated boolean value:\", negated_boolean)\n",
    "\n",
    "# Original float value\n",
    "float_value = 3.14\n",
    "\n",
    "# Change the sign of the float value in place\n",
    "float_value *= -1\n",
    "\n",
    "print(\"Original float value:\", float_value)\n"
   ]
  },
  {
   "cell_type": "code",
   "execution_count": 58,
   "id": "bb9ecb98-491d-4ec1-8f30-0f66ea2d091c",
   "metadata": {},
   "outputs": [
    {
     "name": "stdout",
     "output_type": "stream",
     "text": [
      "Original float array: [-2.7 -1.5  0.   1.5  2.7]\n",
      "Rounded away from zero: [-3. -2.  0.  2.  3.]\n"
     ]
    }
   ],
   "source": [
    "\n",
    "# 43. How to round away from zero a float array?\n",
    "import numpy as np\n",
    "\n",
    "# Example float array\n",
    "float_array = np.array([-2.7, -1.5, 0.0, 1.5, 2.7])\n",
    "\n",
    "# Round away from zero\n",
    "rounded_array = np.where(float_array >= 0, np.ceil(float_array), np.floor(float_array))\n",
    "\n",
    "print(\"Original float array:\", float_array)\n",
    "print(\"Rounded away from zero:\", rounded_array)\n"
   ]
  },
  {
   "cell_type": "code",
   "execution_count": 59,
   "id": "b96d4133-c3ac-4098-b8ba-d0b9d3ee74c1",
   "metadata": {},
   "outputs": [
    {
     "name": "stdout",
     "output_type": "stream",
     "text": [
      "Common values between array1 and array2: [3 4 5]\n"
     ]
    }
   ],
   "source": [
    "\n",
    "# 44. How to find common values between two arrays?\n",
    "import numpy as np\n",
    "\n",
    "# Example arrays\n",
    "array1 = np.array([1, 2, 3, 4, 5])\n",
    "array2 = np.array([3, 4, 5, 6, 7])\n",
    "\n",
    "# Find common values between array1 and array2\n",
    "common_values = np.intersect1d(array1, array2)\n",
    "\n",
    "print(\"Common values between array1 and array2:\", common_values)\n"
   ]
  },
  {
   "cell_type": "code",
   "execution_count": 60,
   "id": "4e5e44c9-f14a-4678-ae57-f38be311b810",
   "metadata": {},
   "outputs": [
    {
     "data": {
      "text/plain": [
       "{'divide': 'ignore', 'over': 'ignore', 'under': 'ignore', 'invalid': 'ignore'}"
      ]
     },
     "execution_count": 60,
     "metadata": {},
     "output_type": "execute_result"
    }
   ],
   "source": [
    "\n",
    "# 45. How to ignore all numpy warnings (not recommended)?\n",
    "import numpy as np\n",
    "\n",
    "# Ignore all NumPy warnings temporarily\n",
    "np.seterr(all='ignore')\n",
    "\n",
    "# Your code here...\n",
    "\n",
    "# Reset NumPy warning settings to default\n",
    "np.seterr(all='warn')\n"
   ]
  },
  {
   "cell_type": "code",
   "execution_count": 61,
   "id": "af914985-b45a-4a19-8173-3ffd6b1d3438",
   "metadata": {},
   "outputs": [
    {
     "name": "stdout",
     "output_type": "stream",
     "text": [
      "Yesterday: 2024-03-21\n",
      "Today: 2024-03-22\n",
      "Tomorrow: 2024-03-23\n"
     ]
    }
   ],
   "source": [
    "\n",
    "# 47. How to get the dates of yesterday, today and tomorrow?\n",
    "from datetime import datetime, timedelta\n",
    "\n",
    "# Get today's date\n",
    "today = datetime.now().date()\n",
    "\n",
    "# Get yesterday's date\n",
    "yesterday = today - timedelta(days=1)\n",
    "\n",
    "# Get tomorrow's date\n",
    "tomorrow = today + timedelta(days=1)\n",
    "\n",
    "print(\"Yesterday:\", yesterday)\n",
    "print(\"Today:\", today)\n",
    "print(\"Tomorrow:\", tomorrow)\n"
   ]
  },
  {
   "cell_type": "code",
   "execution_count": 62,
   "id": "192cc17f-9d04-4d84-83ee-cdd1079935af",
   "metadata": {},
   "outputs": [
    {
     "name": "stdout",
     "output_type": "stream",
     "text": [
      "Dates corresponding to the month of July 2016:\n",
      "2016-07-01 00:00:00\n",
      "2016-07-02 00:00:00\n",
      "2016-07-03 00:00:00\n",
      "2016-07-04 00:00:00\n",
      "2016-07-05 00:00:00\n",
      "2016-07-06 00:00:00\n",
      "2016-07-07 00:00:00\n",
      "2016-07-08 00:00:00\n",
      "2016-07-09 00:00:00\n",
      "2016-07-10 00:00:00\n",
      "2016-07-11 00:00:00\n",
      "2016-07-12 00:00:00\n",
      "2016-07-13 00:00:00\n",
      "2016-07-14 00:00:00\n",
      "2016-07-15 00:00:00\n",
      "2016-07-16 00:00:00\n",
      "2016-07-17 00:00:00\n",
      "2016-07-18 00:00:00\n",
      "2016-07-19 00:00:00\n",
      "2016-07-20 00:00:00\n",
      "2016-07-21 00:00:00\n",
      "2016-07-22 00:00:00\n",
      "2016-07-23 00:00:00\n",
      "2016-07-24 00:00:00\n",
      "2016-07-25 00:00:00\n",
      "2016-07-26 00:00:00\n",
      "2016-07-27 00:00:00\n",
      "2016-07-28 00:00:00\n",
      "2016-07-29 00:00:00\n",
      "2016-07-30 00:00:00\n",
      "2016-07-31 00:00:00\n"
     ]
    }
   ],
   "source": [
    "\n",
    "# 48. How to get all the dates corresponding to the month of July 2016?\n",
    "from datetime import datetime, timedelta\n",
    "\n",
    "# Define the start date and end date for July 2016\n",
    "start_date = datetime(2016, 7, 1)\n",
    "end_date = datetime(2016, 8, 1)\n",
    "\n",
    "# Generate all the dates for the month of July 2016\n",
    "dates_of_july_2016 = [start_date + timedelta(days=i) for i in range((end_date - start_date).days)]\n",
    "\n",
    "print(\"Dates corresponding to the month of July 2016:\")\n",
    "for date in dates_of_july_2016:\n",
    "    print(date)\n"
   ]
  },
  {
   "cell_type": "code",
   "execution_count": 64,
   "id": "d0375b75-eb40-4747-976d-8166496fa964",
   "metadata": {},
   "outputs": [
    {
     "name": "stdout",
     "output_type": "stream",
     "text": [
      "Result: [ -2.5  -7.  -13.5]\n"
     ]
    }
   ],
   "source": [
    "\n",
    "# 49. How to compute ((A+B)*(-A/2)) in place (without copy)?\n",
    "import numpy as np\n",
    "\n",
    "import numpy as np\n",
    "\n",
    "# Example arrays A and B (convert to float type)\n",
    "A = np.array([1, 2, 3], dtype=float)\n",
    "B = np.array([4, 5, 6], dtype=float)\n",
    "\n",
    "# Compute the expression in place\n",
    "result = np.empty_like(A)\n",
    "\n",
    "np.multiply(A, -0.5, out=result)  # Compute -A/2 in place and store in result\n",
    "np.add(A, B, out=A)                # Compute A+B in place and store in A\n",
    "np.multiply(A, result, out=A)      # Compute (A+B)*(-A/2) in place and store in A\n",
    "\n",
    "print(\"Result:\", A)\n"
   ]
  },
  {
   "cell_type": "code",
   "execution_count": 65,
   "id": "08086128-640d-40d1-8bbe-f4231e547b80",
   "metadata": {},
   "outputs": [
    {
     "name": "stdout",
     "output_type": "stream",
     "text": [
      "Array sequence from 0 to 10 with a step of 0.5:\n",
      "[ 0.   0.5  1.   1.5  2.   2.5  3.   3.5  4.   4.5  5.   5.5  6.   6.5\n",
      "  7.   7.5  8.   8.5  9.   9.5 10. ]\n"
     ]
    }
   ],
   "source": [
    "\n",
    "# 50. Create a numpy array sequence from 0 to 10 with a step of 0.5.\n",
    "import numpy as np\n",
    "\n",
    "# Create a numpy array sequence from 0 to 10 with a step of 0.5\n",
    "array_sequence = np.arange(0, 10.5, 0.5)\n",
    "\n",
    "print(\"Array sequence from 0 to 10 with a step of 0.5:\")\n",
    "print(array_sequence)\n"
   ]
  },
  {
   "cell_type": "code",
   "execution_count": null,
   "id": "23923d15-e1c2-4b8c-856e-ca3ab58d9bf3",
   "metadata": {},
   "outputs": [],
   "source": []
  }
 ],
 "metadata": {
  "kernelspec": {
   "display_name": "Python 3 (ipykernel)",
   "language": "python",
   "name": "python3"
  },
  "language_info": {
   "codemirror_mode": {
    "name": "ipython",
    "version": 3
   },
   "file_extension": ".py",
   "mimetype": "text/x-python",
   "name": "python",
   "nbconvert_exporter": "python",
   "pygments_lexer": "ipython3",
   "version": "3.11.8"
  }
 },
 "nbformat": 4,
 "nbformat_minor": 5
}
