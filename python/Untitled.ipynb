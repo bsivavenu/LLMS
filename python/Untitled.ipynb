{
 "cells": [
  {
   "cell_type": "code",
   "execution_count": 43,
   "id": "941e5f9b",
   "metadata": {},
   "outputs": [],
   "source": [
    "\n",
    "l = [[1,-1,3],[9,-1], [0,-1,9], [1,2, 8, -1]]\n",
    "# Replace negative numbers with 0"
   ]
  },
  {
   "cell_type": "code",
   "execution_count": 44,
   "id": "5e9f54df",
   "metadata": {},
   "outputs": [
    {
     "data": {
      "text/plain": [
       "[[1, 0, 3], [9, 0], [0, 0, 9], [1, 2, 8, 0]]"
      ]
     },
     "execution_count": 44,
     "metadata": {},
     "output_type": "execute_result"
    }
   ],
   "source": [
    "l = [[0 if j <=-1 else j for j in i ] for i in l]\n",
    "\n",
    "# l = [[0 if x < 0 else x for x in sublist] for sublist in l]\n",
    "\n",
    "l"
   ]
  },
  {
   "cell_type": "code",
   "execution_count": 10,
   "id": "d345837e",
   "metadata": {},
   "outputs": [
    {
     "data": {
      "text/plain": [
       "[[1, -1, 3], [9, -1], [0, -1, 9], [1, 2, 8, -1]]"
      ]
     },
     "execution_count": 10,
     "metadata": {},
     "output_type": "execute_result"
    }
   ],
   "source": [
    "l"
   ]
  },
  {
   "cell_type": "code",
   "execution_count": 18,
   "id": "a8221640",
   "metadata": {},
   "outputs": [
    {
     "data": {
      "text/plain": [
       "[[1, 0, 3], [9, 0], [0, 0, 9], [1, 2, 8, 0]]"
      ]
     },
     "execution_count": 18,
     "metadata": {},
     "output_type": "execute_result"
    }
   ],
   "source": [
    "for i in l :\n",
    "    for j,k in enumerate(i):\n",
    "            if k <= -1:\n",
    "                i[j] = 0\n",
    "\n",
    "l    "
   ]
  },
  {
   "cell_type": "code",
   "execution_count": null,
   "id": "ec9b52dd",
   "metadata": {},
   "outputs": [],
   "source": [
    "Reverse occurrence of vowels in a string.\n",
    " \n",
    "Input: Hello\n",
    "Output: Holle\n",
    "#  a,e,i,ou\n",
    "Input: oranges\n",
    "Output: erangos\n",
    "    \n",
    "#     e,i,o, u, a\n",
    "    "
   ]
  },
  {
   "cell_type": "code",
   "execution_count": 48,
   "id": "e1cb1ed3",
   "metadata": {},
   "outputs": [
    {
     "data": {
      "text/plain": [
       "'suvevani'"
      ]
     },
     "execution_count": 48,
     "metadata": {},
     "output_type": "execute_result"
    }
   ],
   "source": [
    "vow = ['a','e','i','o','u']\n",
    "str1 = 'sivavenu'\n",
    "xx = []\n",
    "for i in str1:\n",
    "    if i in vow:\n",
    "       xx.append(i)\n",
    "    \n",
    "# for i in str1:\n",
    "#     if i in vow:\n",
    "# #         print(str1.index(i))\n",
    "#         str1.replace(i,xx[-1])\n",
    "#         print(i,xx[-1])\n",
    "# str1\n",
    "rev_str1 = xx[::-1]\n",
    "str2 = ''\n",
    "ix = 0\n",
    "for i in str1:\n",
    "    if i in vow:\n",
    "        str2 = str2+rev_str1[ix]\n",
    "        ix = ix+1\n",
    "    else:\n",
    "        str2 =str2+i\n",
    "str2"
   ]
  },
  {
   "cell_type": "code",
   "execution_count": 52,
   "id": "74d9698a",
   "metadata": {},
   "outputs": [
    {
     "data": {
      "text/plain": [
       "(['i', 'a'], ['a', 'i'])"
      ]
     },
     "execution_count": 52,
     "metadata": {},
     "output_type": "execute_result"
    }
   ],
   "source": [
    "def func(s):\n",
    "    vow = 'aeiouAEIOU'\n",
    "    x1 = [i for i in s if i in vow]\n",
    "    x2 = x1[::-1]\n",
    "    s2 = [i for i in s if s[i]]\n",
    "    return ''.join(char if char not in vowels else reversed_vowels.pop(0) for char in s)\n",
    "\n",
    "c = func('siva')\n",
    "\n",
    "def reverse_vowels(s):\n",
    "    vowels = 'aeiouAEIOU'\n",
    "    vowel_indices = [i for i, char in enumerate(s) if char in vowels]\n",
    "    reversed_vowels = [s[i] for i in reversed(vowel_indices)]\n",
    "    \n",
    "    return ''.join(char if char not in vowels else reversed_vowels.pop(0) for char in s)\n",
    "\n",
    "# Test cases\n",
    "print(reverse_vowels(\"Hello\"))    # Output: Holle\n",
    "print(reverse_vowels(\"oranges\"))  # Output: erangos\n",
    "\n",
    "c"
   ]
  },
  {
   "cell_type": "code",
   "execution_count": null,
   "id": "854538e8",
   "metadata": {},
   "outputs": [],
   "source": []
  }
 ],
 "metadata": {
  "kernelspec": {
   "display_name": "Python 3 (ipykernel)",
   "language": "python",
   "name": "python3"
  },
  "language_info": {
   "codemirror_mode": {
    "name": "ipython",
    "version": 3
   },
   "file_extension": ".py",
   "mimetype": "text/x-python",
   "name": "python",
   "nbconvert_exporter": "python",
   "pygments_lexer": "ipython3",
   "version": "3.10.0"
  }
 },
 "nbformat": 4,
 "nbformat_minor": 5
}
