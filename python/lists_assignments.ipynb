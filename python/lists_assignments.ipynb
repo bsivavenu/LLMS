{
 "cells": [
  {
   "cell_type": "code",
   "execution_count": 12,
   "id": "5e9f54df",
   "metadata": {},
   "outputs": [
    {
     "name": "stdout",
     "output_type": "stream",
     "text": [
      "[[1, 0, 3], [9, 0], [0, 0, 9], [1, 2, 8, 0]]\n"
     ]
    }
   ],
   "source": [
    "# Replace negative numbers with 0\n",
    "l = [[1,-1,3],[9,-1], [0,-1,9], [1,2, 8, -1]]\n",
    "\n",
    "l = [[0 if j <=-1 else j for j in i ] for i in l]\n",
    "\n",
    "print(l)\n",
    "\n",
    "for i in l :\n",
    "    for j,k in enumerate(i):\n",
    "            if k <= -1:\n",
    "                i[j] = 0\n",
    "\n",
    "print(l)    "
   ]
  },
  {
   "cell_type": "code",
   "execution_count": 14,
   "id": "e1cb1ed3",
   "metadata": {},
   "outputs": [
    {
     "name": "stdout",
     "output_type": "stream",
     "text": [
      "suvevani\n"
     ]
    }
   ],
   "source": [
    "vow = ['a','e','i','o','u']\n",
    "str1 = 'sivavenu'\n",
    "xx = []\n",
    "for i in str1:\n",
    "    if i in vow:\n",
    "       xx.append(i)\n",
    "    \n",
    "rev_str1 = xx[::-1]\n",
    "str2 = ''\n",
    "ix = 0\n",
    "for i in str1:\n",
    "    if i in vow:\n",
    "        str2 = str2+rev_str1[ix]\n",
    "        ix = ix+1\n",
    "    else:\n",
    "        str2 =str2+i\n",
    "print(str2)"
   ]
  },
  {
   "cell_type": "code",
   "execution_count": 15,
   "id": "74d9698a",
   "metadata": {},
   "outputs": [
    {
     "name": "stdout",
     "output_type": "stream",
     "text": [
      "Holle\n",
      "erangos\n",
      "savi\n"
     ]
    }
   ],
   "source": [
    "def func(s):\n",
    "    vow = 'aeiouAEIOU'\n",
    "    x1 = [i for i in s if i in vow]\n",
    "    x2 = x1[::-1]\n",
    "    return ''.join(char if char not in vow else x2.pop(0) for char in s)\n",
    "\n",
    "c = func('siva')\n",
    "\n",
    "def reverse_vowels(s):\n",
    "    vowels = 'aeiouAEIOU'\n",
    "    vowel_indices = [i for i, char in enumerate(s) if char in vowels]\n",
    "    reversed_vowels = [s[i] for i in reversed(vowel_indices)]\n",
    "    \n",
    "    return ''.join(char if char not in vowels else reversed_vowels.pop(0) for char in s)\n",
    "\n",
    "# Test cases\n",
    "print(reverse_vowels(\"Hello\"))    # Output: Holle\n",
    "print(reverse_vowels(\"oranges\"))  # Output: erangos\n",
    "\n",
    "print(c)  # Output: savi\n"
   ]
  },
  {
   "cell_type": "code",
   "execution_count": null,
   "id": "854538e8",
   "metadata": {},
   "outputs": [],
   "source": []
  }
 ],
 "metadata": {
  "kernelspec": {
   "display_name": "Python 3 (ipykernel)",
   "language": "python",
   "name": "python3"
  },
  "language_info": {
   "codemirror_mode": {
    "name": "ipython",
    "version": 3
   },
   "file_extension": ".py",
   "mimetype": "text/x-python",
   "name": "python",
   "nbconvert_exporter": "python",
   "pygments_lexer": "ipython3",
   "version": "3.11.8"
  }
 },
 "nbformat": 4,
 "nbformat_minor": 5
}
