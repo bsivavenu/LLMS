{
 "cells": [
  {
   "cell_type": "code",
   "execution_count": 3,
   "id": "3e887ab1-090b-4843-85b9-7750338c5ac6",
   "metadata": {},
   "outputs": [],
   "source": [
    "# 1. Create a Pandas DataFrame from a dictionary containing student names and their corresponding ages.\n",
    "# 2. Read a CSV file into a Pandas DataFrame.\n",
    "# 3. Select a single column from a DataFrame.\n",
    "# 4. Select multiple columns from a DataFrame.\n",
    "# 5. Filter rows in a DataFrame based on a condition.\n",
    "# 6. Calculate the mean of a numeric column in a DataFrame.\n",
    "# 7. Calculate the median of a numeric column in a DataFrame.\n",
    "# 8. Calculate the sum of a numeric column in a DataFrame.\n",
    "# 9. Calculate the maximum value in a numeric column in a DataFrame.\n",
    "# 10. Calculate the minimum value in a numeric column in a DataFrame.\n",
    "# 11. Merge two DataFrames using a common key.\n",
    "# 12. Concatenate two DataFrames vertically.\n",
    "# 13. Concatenate two DataFrames horizontally.\n",
    "# 14. Group data in a DataFrame by a categorical variable and calculate summary statistics.\n",
    "# 15. Apply a custom function to each element in a DataFrame.\n",
    "# 16. Create a new column in a DataFrame by applying a function to existing columns.\n",
    "# 17. Rename columns in a DataFrame.\n",
    "# 18. Remove duplicate rows from a DataFrame.\n",
    "# 19. Reshape a DataFrame using the melt function.\n",
    "# 20. Reshape a DataFrame using the pivot function.\n",
    "# 21. Perform a left join between two DataFrames.\n",
    "# 22. Perform an inner join between two DataFrames.\n",
    "# 23. Perform an outer join between two DataFrames.\n",
    "# 24. Perform a right join between two DataFrames.\n",
    "# 25. Sort a DataFrame by values in a specific column.\n",
    "# 26. Sort a DataFrame by multiple columns.\n",
    "# 27. Set the index of a DataFrame to a specific column.\n",
    "# 28. Reset the index of a DataFrame.\n",
    "# 29. Create a pivot table from a DataFrame.\n",
    "# 30. Replace missing values in a DataFrame with a specific value.\n",
    "# 31. Drop rows with missing values from a DataFrame.\n",
    "# 32. Drop columns with missing values from a DataFrame.\n",
    "# 33. Convert a DataFrame column to a different data type.\n",
    "# 34. Convert a DataFrame to a NumPy array.\n",
    "# 35. Convert a DataFrame to a list of dictionaries.\n",
    "# 36. Convert a DataFrame to a JSON string.\n",
    "# 37. Convert a DataFrame to a CSV file.\n",
    "# 38. Perform a time series analysis on a DataFrame.\n",
    "# 39. Resample time series data in a DataFrame.\n",
    "# 40. Calculate the rolling mean of a time series in a DataFrame.\n",
    "# 41. Apply a lambda function to a DataFrame.\n",
    "# 42. Filter rows in a DataFrame based on multiple conditions.\n",
    "# 43. Create a histogram from a numeric column in a DataFrame.\n",
    "# 44. Create a bar plot from categorical data in a DataFrame.\n",
    "# 45. Create a scatter plot from two numeric columns in a DataFrame.\n",
    "# 46. Create a box plot from a numeric column in a DataFrame.\n",
    "# 47. Create a line plot from time series data in a DataFrame.\n",
    "# 48. Perform a correlation analysis between numeric columns in a DataFrame.\n",
    "# 49. Perform a hypothesis test on data in a DataFrame.\n",
    "# 50. Create a custom function to clean and preprocess data in a DataFrame."
   ]
  },
  {
   "cell_type": "code",
   "execution_count": 4,
   "id": "37d5bc77-a758-4f52-954c-7a06eae9aadb",
   "metadata": {},
   "outputs": [],
   "source": [
    "import pandas as pd\n",
    "import os\n",
    "import numpy as np"
   ]
  },
  {
   "cell_type": "code",
   "execution_count": 47,
   "id": "57f6d5f6-4443-4d76-afb6-5fef9e28e57d",
   "metadata": {},
   "outputs": [
    {
     "data": {
      "text/html": [
       "<div>\n",
       "<style scoped>\n",
       "    .dataframe tbody tr th:only-of-type {\n",
       "        vertical-align: middle;\n",
       "    }\n",
       "\n",
       "    .dataframe tbody tr th {\n",
       "        vertical-align: top;\n",
       "    }\n",
       "\n",
       "    .dataframe thead th {\n",
       "        text-align: right;\n",
       "    }\n",
       "</style>\n",
       "<table border=\"1\" class=\"dataframe\">\n",
       "  <thead>\n",
       "    <tr style=\"text-align: right;\">\n",
       "      <th></th>\n",
       "      <th>name</th>\n",
       "      <th>age</th>\n",
       "    </tr>\n",
       "  </thead>\n",
       "  <tbody>\n",
       "    <tr>\n",
       "      <th>0</th>\n",
       "      <td>siva</td>\n",
       "      <td>20</td>\n",
       "    </tr>\n",
       "    <tr>\n",
       "      <th>1</th>\n",
       "      <td>raj</td>\n",
       "      <td>22</td>\n",
       "    </tr>\n",
       "    <tr>\n",
       "      <th>2</th>\n",
       "      <td>sai</td>\n",
       "      <td>18</td>\n",
       "    </tr>\n",
       "  </tbody>\n",
       "</table>\n",
       "</div>"
      ],
      "text/plain": [
       "   name  age\n",
       "0  siva   20\n",
       "1   raj   22\n",
       "2   sai   18"
      ]
     },
     "execution_count": 47,
     "metadata": {},
     "output_type": "execute_result"
    }
   ],
   "source": [
    "# 1. Create a Pandas DataFrame from a dictionary containing student names and their corresponding ages.\n",
    "dictionary = {'siva':20,'raj':22, 'sai':18}\n",
    "df = pd.DataFrame(dictionary.items(), columns = ['name','age'] )\n",
    "df"
   ]
  },
  {
   "cell_type": "code",
   "execution_count": 38,
   "id": "48ff8a88-d5df-4bcc-be1e-d2b6d10b030d",
   "metadata": {},
   "outputs": [
    {
     "name": "stdout",
     "output_type": "stream",
     "text": [
      "['sai']\n",
      "[['sai', 18]]\n",
      "  name  age\n",
      "2  sai   18\n",
      "18\n"
     ]
    }
   ],
   "source": [
    "# 2. Read a CSV file into a Pandas DataFrame.\n",
    "# df = pd.read_csv('filename')\n",
    "# 3. Select a single column from a DataFrame.\n",
    "x = df['name']\n",
    "print((x.tolist()))\n",
    "# 4. Select multiple columns from a DataFrame.\n",
    "x = df[['name','age']]\n",
    "print((x.values.tolist()))\n",
    "# 5. Filter rows in a DataFrame based on a condition.\n",
    "filter_df = df[df['age']<20]\n",
    "print(filter_df)\n",
    "x = df[['age']]\n",
    "print((x.values.tolist()[0][0]))"
   ]
  },
  {
   "cell_type": "code",
   "execution_count": 54,
   "id": "deb9d0a8-8439-4447-a005-7b89dcd640c0",
   "metadata": {},
   "outputs": [
    {
     "name": "stdout",
     "output_type": "stream",
     "text": [
      "20.0\n",
      "20.0\n",
      "60\n",
      "18 22\n"
     ]
    }
   ],
   "source": [
    "# 6. Calculate the mean of a numeric column in a DataFrame.\n",
    "mean_col = df['age'].mean()\n",
    "print((mean_col))\n",
    "# 7. Calculate the median of a numeric column in a DataFrame.\n",
    "median_col = df['age'].median()\n",
    "print((median_col))\n",
    "# 8. Calculate the sum of a numeric column in a DataFrame.\n",
    "sum_col = df['age'].sum()\n",
    "print((sum_col.tolist()))\n",
    "# 9. Calculate the maximum value in a numeric column in a DataFrame.\n",
    "# 10. Calculate the minimum value in a numeric column in a DataFrame.\n",
    "min_df, max_df = df['age'].min(), df['age'].max()\n",
    "print(min_df, max_df)"
   ]
  },
  {
   "cell_type": "code",
   "execution_count": 90,
   "id": "c50e0897-b2e5-4c31-b075-0831c66d0af8",
   "metadata": {},
   "outputs": [
    {
     "name": "stdout",
     "output_type": "stream",
     "text": [
      "\n",
      "--------------------\n",
      "\n"
     ]
    }
   ],
   "source": [
    "def lines():\n",
    "    x = '\\n'+'-'*20+ '\\n'\n",
    "    return x\n",
    "print(lines())"
   ]
  },
  {
   "cell_type": "code",
   "execution_count": 116,
   "id": "35b2de50-af2b-4914-ac13-ba1f7bafcf43",
   "metadata": {},
   "outputs": [
    {
     "name": "stdout",
     "output_type": "stream",
     "text": [
      "new_df   key  values\n",
      "0   a       1\n",
      "1   a       4\n",
      "2   b       2\n",
      "3   c       3\n",
      "4   d       5\n",
      "5   e       6\n",
      "\n",
      "--------------------\n",
      "\n",
      "final_df \n",
      "   key  values_x  values_y\n",
      "0   a         1         4\n",
      "\n",
      "--------------------\n",
      "\n",
      "vertical_concatination_df \n",
      "   key  values\n",
      "0   a       1\n",
      "1   b       2\n",
      "2   c       3\n",
      "3   a       4\n",
      "4   d       5\n",
      "5   e       6\n",
      "\n",
      "--------------------\n",
      "\n",
      "vertical_concatination_df \n",
      "    0  1  2  3\n",
      "0  a  1  a  4\n",
      "1  b  2  d  5\n",
      "2  c  3  e  6\n",
      "\n",
      "--------------------\n",
      "\n",
      "             age\n",
      "count   5.000000\n",
      "mean   31.200000\n",
      "std    13.845577\n",
      "min    20.000000\n",
      "25%    21.000000\n",
      "50%    23.000000\n",
      "75%    42.000000\n",
      "max    50.000000\n",
      "  grp  age\n",
      "0   a   20\n",
      "1   b   23\n",
      "2   c   50\n",
      "3   d   42\n",
      "4   a   21\n",
      "  grp  age   new\n",
      "0   a   20   400\n",
      "1   b   23   529\n",
      "2   c   50  2500\n",
      "3   d   42  1764\n",
      "4   a   21   441\n"
     ]
    }
   ],
   "source": [
    "# 11. Merge two DataFrames using a common key.\n",
    "df1 = pd.DataFrame({'key':['a','b','c'],'values':[1,2,3]})\n",
    "df2 = pd.DataFrame({'key':['a','d','e'],'values':[4,5,6]})\n",
    "new_df = df1.merge(df2,how = 'outer')\n",
    "print('new_df', new_df)\n",
    "print(lines())\n",
    "final_df = pd.merge(df1,df2,on = 'key',how='inner')\n",
    "print('final_df', '\\n',final_df)\n",
    "print(lines())\n",
    "# 12. Concatenate two DataFrames vertically.\n",
    "vertical_concatination_df = pd.concat([df1,df2],ignore_index=True)\n",
    "print('vertical_concatination_df','\\n', vertical_concatination_df)\n",
    "print(lines())\n",
    "# 13. Concatenate two DataFrames horizontally.\n",
    "horizantal_concatination_df = pd.concat([df1,df2],ignore_index=True,axis = 1)\n",
    "print('vertical_concatination_df', '\\n',horizantal_concatination_df)\n",
    "print(lines())\n",
    "# 14. Group data in a DataFrame by a categorical variable and calculate summary statistics.\n",
    "df = pd.DataFrame({'grp':['a','b','c','d','a'],'age':[20,23,50,42,21]})\n",
    "print(df[['age']].describe())\n",
    "print(df)\n",
    "# 15. Apply a custom function to each element in a DataFrame.\n",
    "def custom(x):\n",
    "    if isinstance(x,(int,float,np.number)):\n",
    "        return x**2\n",
    "    else:\n",
    "        return x\n",
    "df['new'] = df['age'].apply((custom))\n",
    "print(df)"
   ]
  },
  {
   "cell_type": "code",
   "execution_count": 115,
   "id": "6668e20d-4df7-4f36-8939-e207f51399a1",
   "metadata": {},
   "outputs": [
    {
     "data": {
      "text/html": [
       "<div>\n",
       "<style scoped>\n",
       "    .dataframe tbody tr th:only-of-type {\n",
       "        vertical-align: middle;\n",
       "    }\n",
       "\n",
       "    .dataframe tbody tr th {\n",
       "        vertical-align: top;\n",
       "    }\n",
       "\n",
       "    .dataframe thead th {\n",
       "        text-align: right;\n",
       "    }\n",
       "</style>\n",
       "<table border=\"1\" class=\"dataframe\">\n",
       "  <thead>\n",
       "    <tr style=\"text-align: right;\">\n",
       "      <th></th>\n",
       "      <th>grp</th>\n",
       "      <th>age</th>\n",
       "      <th>new</th>\n",
       "    </tr>\n",
       "  </thead>\n",
       "  <tbody>\n",
       "    <tr>\n",
       "      <th>0</th>\n",
       "      <td>a</td>\n",
       "      <td>20</td>\n",
       "      <td>400</td>\n",
       "    </tr>\n",
       "    <tr>\n",
       "      <th>1</th>\n",
       "      <td>b</td>\n",
       "      <td>23</td>\n",
       "      <td>529</td>\n",
       "    </tr>\n",
       "    <tr>\n",
       "      <th>2</th>\n",
       "      <td>c</td>\n",
       "      <td>50</td>\n",
       "      <td>2500</td>\n",
       "    </tr>\n",
       "    <tr>\n",
       "      <th>3</th>\n",
       "      <td>d</td>\n",
       "      <td>42</td>\n",
       "      <td>1764</td>\n",
       "    </tr>\n",
       "    <tr>\n",
       "      <th>4</th>\n",
       "      <td>a</td>\n",
       "      <td>21</td>\n",
       "      <td>441</td>\n",
       "    </tr>\n",
       "  </tbody>\n",
       "</table>\n",
       "</div>"
      ],
      "text/plain": [
       "  grp  age   new\n",
       "0   a   20   400\n",
       "1   b   23   529\n",
       "2   c   50  2500\n",
       "3   d   42  1764\n",
       "4   a   21   441"
      ]
     },
     "execution_count": 115,
     "metadata": {},
     "output_type": "execute_result"
    }
   ],
   "source": [
    "df"
   ]
  },
  {
   "cell_type": "code",
   "execution_count": null,
   "id": "db8aa2bc-c34f-4672-925e-6d46daaf2f04",
   "metadata": {},
   "outputs": [],
   "source": []
  }
 ],
 "metadata": {
  "kernelspec": {
   "display_name": "Python 3 (ipykernel)",
   "language": "python",
   "name": "python3"
  },
  "language_info": {
   "codemirror_mode": {
    "name": "ipython",
    "version": 3
   },
   "file_extension": ".py",
   "mimetype": "text/x-python",
   "name": "python",
   "nbconvert_exporter": "python",
   "pygments_lexer": "ipython3",
   "version": "3.11.8"
  }
 },
 "nbformat": 4,
 "nbformat_minor": 5
}
